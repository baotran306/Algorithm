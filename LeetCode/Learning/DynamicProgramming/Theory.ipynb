{
 "cells": [
  {
   "cell_type": "markdown",
   "metadata": {},
   "source": [
    "## Dynamic Programming\n",
    "**- Refers to simplifying a complicated problem by breaking it down into simpler sub-problems in a recursive mannar. While some decision problems cannot be taken apart this way, decision that span several pounts in time do often break apart recursively. Likewise, if a problem can be solved optimally by breaking it into sub-problems and then recursively finding the optimal solutions to the sub-problems, then its is said to have optimal substructure.**\n",
    "**- The basic idea of DP is to store the result of a problem after solving it. So when we get the need to use the solution of the problem, then we don't hvae to solve the problem again and just use the stored solution.**\n",
    "\n",
    "### There are two ways approach:\n",
    "- Top down: This is the direct fall-out of the recursive formulation of any problem. If the solution to any problem can be formulated recursively using the solution to its sub-problems, and if its sub-problems are overlapping, then one can easily memoize or store the solutions to the sub-problems in a table. Whenever we attempt to solve a new sub-problem, we first check the table to see if it is already solved. If a solution has been recorded, we can use it directly, otherwise we solve the sub-problem and add its solution to the table.\n",
    "- Bottom up:  Once we formulate the solution to a problem recursively as in terms of its sub-problems, we can try reformulating the problem in a bottom-up fashion: try solving the sub-problems first and use their solutions to build-on and arrive at solutions to bigger sub-problems. This is also usually done in a tabular form by iteratively generating solutions to bigger and bigger sub-problems by using the solutions to small sub-problems. For example, if we already know the values of F41 and F40, we can directly calculate the value of F42."
   ]
  },
  {
   "cell_type": "code",
   "execution_count": 8,
   "metadata": {},
   "outputs": [
    {
     "name": "stdout",
     "output_type": "stream",
     "text": [
      "4\n",
      "3\n",
      "2\n",
      "1\n",
      "24\n"
     ]
    }
   ],
   "source": [
    "def fac_recursive(n):\n",
    "    if n == 1:\n",
    "        return 1\n",
    "    else:\n",
    "        return n * fac_recursive(n-1)\n",
    "\n",
    "print(fac_recursive(4))"
   ]
  },
  {
   "cell_type": "code",
   "execution_count": 11,
   "metadata": {},
   "outputs": [],
   "source": [
    "# Fibonaci\n",
    "def recursive_fibo(n):\n",
    "    print('recur', n)\n",
    "    if n == 0 or n == 1:\n",
    "        return 1\n",
    "    else:\n",
    "        return recursive_fibo(n-1) + recursive_fibo(n-2)"
   ]
  },
  {
   "cell_type": "code",
   "execution_count": 12,
   "metadata": {},
   "outputs": [
    {
     "name": "stdout",
     "output_type": "stream",
     "text": [
      "recur 5\n",
      "recur 4\n",
      "recur 3\n",
      "recur 2\n",
      "recur 1\n",
      "recur 0\n",
      "recur 1\n",
      "recur 2\n",
      "recur 1\n",
      "recur 0\n",
      "recur 3\n",
      "recur 2\n",
      "recur 1\n",
      "recur 0\n",
      "recur 1\n",
      "8\n"
     ]
    }
   ],
   "source": [
    "print(recursive_fibo(5))"
   ]
  },
  {
   "cell_type": "code",
   "execution_count": 6,
   "metadata": {},
   "outputs": [
    {
     "data": {
      "text/plain": [
       "'\\n    1. fib(5)\\n    2. fib(4) + fib(3)\\n    3. (fib(3) + fib(2)) + (fib(2) + fib(1))\\n    4. ((fib(2) + fib(1)) + (fib(1) + fib(0))) + ((fib(1) + fib(0)) + fib(1))\\n    5. (((fib(1) + fib(0)) + fib(1)) + (fib(1) + fib(0))) + ((fib(1) + fib(0)) + fib(1))\\n    \\n    In particular, fib(2) was calculated three times from scratch. In larger examples, \\n    many more values of fib, or subproblems, are recalculated, leading to an exponential time algorithm.\\n'"
      ]
     },
     "execution_count": 6,
     "metadata": {},
     "output_type": "execute_result"
    }
   ],
   "source": [
    "# For this case, for example recursive_fibo(5), we call the function on the same value many different times.\n",
    "\"\"\"\n",
    "    1. fib(5)\n",
    "    2. fib(4) + fib(3)\n",
    "    3. (fib(3) + fib(2)) + (fib(2) + fib(1))\n",
    "    4. ((fib(2) + fib(1)) + (fib(1) + fib(0))) + ((fib(1) + fib(0)) + fib(1))\n",
    "    5. (((fib(1) + fib(0)) + fib(1)) + (fib(1) + fib(0))) + ((fib(1) + fib(0)) + fib(1))\n",
    "    \n",
    "    In particular, fib(2) was calculated three times from scratch. In larger examples, \n",
    "    many more values of fib, or subproblems, are recalculated, leading to an exponential time algorithm.\n",
    "\"\"\""
   ]
  },
  {
   "cell_type": "code",
   "execution_count": 16,
   "metadata": {},
   "outputs": [
    {
     "name": "stdout",
     "output_type": "stream",
     "text": [
      "recur 5\n",
      "recur 4\n",
      "recur 3\n",
      "recur 2\n",
      "recur 1\n",
      "recur 0\n",
      "recur 1\n",
      "recur 2\n",
      "recur 3\n",
      "8\n"
     ]
    }
   ],
   "source": [
    "# Top-Down (Memoization)\n",
    "# In other terms, it can also be said that we just hit the problem in a natural manner \n",
    "# and hope that the solutions for the subproblem are already calculated and if they are not calculated\n",
    "# , then we calculate them on the way.\n",
    "\n",
    "dp = [-1] * 50 # Store fibonacci terms\n",
    "def dp_fibo(n):\n",
    "    print('recur', n)\n",
    "    if dp[n] < 0:\n",
    "        if n == 0 or n == 1:\n",
    "            dp[n] = 1\n",
    "        else:\n",
    "            dp[n] = dp_fibo(n-1) + dp_fibo(n-2)\n",
    "    return dp[n]\n",
    "\n",
    "print(dp_fibo(5))"
   ]
  },
  {
   "cell_type": "code",
   "execution_count": 15,
   "metadata": {},
   "outputs": [
    {
     "name": "stdout",
     "output_type": "stream",
     "text": [
      "8\n"
     ]
    }
   ],
   "source": [
    "# Bottom-up(Tabulation)\n",
    "# We starting from the bottom, start by calculatiing the 2nd team\n",
    "# then 3rd and so on..\n",
    "# finally calculatiing the higher terms on the top of these, by using these valeus\n",
    "def fibo_dp_bottom_up(n):\n",
    "    dp = [1, 1] # Save value of 1st, 2rd term\n",
    "    for i in range(2, n+1):\n",
    "        dp.append(dp[i-1] + dp[i-2])\n",
    "\n",
    "    return dp[n]\n",
    "print(fibo_dp_bottom_up(5))"
   ]
  },
  {
   "cell_type": "markdown",
   "metadata": {},
   "source": [
    "### Memoization V/S Tabulation\n",
    "- Memoization is indeed the natural way of solving a problem, so coding is easier in memoization when we deal with a complex problem. Coming up with a specific order while dealing with lot of conditions might be difficult in the tabulation.\n",
    "- In case we don't need to find the solutions of all the subproblems. We would prefer to use the memoization instead.\n",
    "- When a lot of recursive calls are required, memoizzation cause memory problems because it might have stacked the recursive calls to find the solution of the deeper recursive call but won;t deal with this problem in tabulation.\n",
    "- Generally, memoization is slower than tabulation because of the lerge recursive calls.\n",
    " "
   ]
  },
  {
   "cell_type": "markdown",
   "metadata": {},
   "source": [
    "**Knapsack Problem**.\n",
    "- There are different kinds of items (i) and each item i has a weight (wi) and value (vi) associated with it. \n",
    "xi is the number of i kind of items we have picked. And the bag has a limitation of maximum weight (W).\n",
    "- Main tassk iss maximize the value ∑\n",
    "n\n",
    "i\n",
    "=\n",
    "1\n",
    "(\n",
    "v\n",
    "i\n",
    "x\n",
    "i\n",
    ")\n",
    "  (summation of the number of items taken * its value) such that \n",
    "∑\n",
    "n\n",
    "i\n",
    "=\n",
    "1\n",
    "w\n",
    "i\n",
    "x\n",
    "i\n",
    "≤\n",
    "W\n",
    " i.e., the weight of all the items should be less than the maximum weight.\n",
    " - there is only one item of each kind (or we can pick only one). So, we are available with only two options for each item, either pick it (1) or leave it (0) i.e., \n",
    "x\n",
    "i\n",
    "∈\n",
    "{\n",
    "0\n",
    ",\n",
    "1\n",
    "}\n",
    "."
   ]
  },
  {
   "cell_type": "code",
   "execution_count": 82,
   "metadata": {},
   "outputs": [],
   "source": [
    "def knap_sack(num_item: int, weight: int, ls_item_weight: list[float], ls_item_value: list[float]):\n",
    "    # Note that if create like below, each row fill be referencing the same column when update. Be careful\n",
    "    # cost = [[0] * (weight + 1)] * (num_item + 1)\n",
    "    # Fake value 0, index start from 1\n",
    "    ls_item_weight = [0] + ls_item_weight\n",
    "    ls_item_value = [0] + ls_item_value\n",
    "    cost = [[0 for i in range(weight + 1)] for j in range(num_item + 1)]\n",
    "    for cur_item_idx in range(1, num_item + 1):\n",
    "        for cur_weight_idx in range(1, weight + 1):\n",
    "            if ls_item_weight[cur_item_idx] > cur_weight_idx:\n",
    "                cost[cur_item_idx][cur_weight_idx] = cost[cur_item_idx - 1][cur_weight_idx]\n",
    "            else:\n",
    "                cost[cur_item_idx][cur_weight_idx] = max(cost[cur_item_idx - 1][cur_weight_idx], ls_item_value[cur_item_idx] + cost[cur_item_idx - 1][cur_weight_idx - ls_item_weight[cur_item_idx]])\n",
    "    print(cost)\n",
    "    return cost[num_item][weight]"
   ]
  },
  {
   "cell_type": "code",
   "execution_count": 83,
   "metadata": {},
   "outputs": [
    {
     "name": "stdout",
     "output_type": "stream",
     "text": [
      "[[0, 0, 0, 0, 0, 0], [0, 0, 0, 8, 8, 8], [0, 0, 3, 8, 8, 11], [0, 0, 3, 8, 9, 11], [0, 6, 6, 9, 14, 15]]\n"
     ]
    },
    {
     "data": {
      "text/plain": [
       "15"
      ]
     },
     "execution_count": 83,
     "metadata": {},
     "output_type": "execute_result"
    }
   ],
   "source": [
    "weight_ls = [3, 2, 4, 1]\n",
    "value_ls = [8, 3, 9, 6]\n",
    "knap_sack(4, 5, weight_ls, value_ls)"
   ]
  },
  {
   "cell_type": "markdown",
   "metadata": {},
   "source": []
  },
  {
   "cell_type": "markdown",
   "metadata": {},
   "source": []
  }
 ],
 "metadata": {
  "kernelspec": {
   "display_name": "Python 3",
   "language": "python",
   "name": "python3"
  },
  "language_info": {
   "codemirror_mode": {
    "name": "ipython",
    "version": 3
   },
   "file_extension": ".py",
   "mimetype": "text/x-python",
   "name": "python",
   "nbconvert_exporter": "python",
   "pygments_lexer": "ipython3",
   "version": "3.10.13"
  }
 },
 "nbformat": 4,
 "nbformat_minor": 2
}
