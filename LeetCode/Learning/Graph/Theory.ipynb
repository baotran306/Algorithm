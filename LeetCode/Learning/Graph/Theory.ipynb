{
 "cells": [
  {
   "cell_type": "markdown",
   "metadata": {},
   "source": [
    "# Graph theory\n",
    "## Graph theory is the study of graphs, which are mathematical structures used to model pairwise relations between objects A graph in this context is made up of vertices (nodes or points) which are connected by edges (links or lines). A distintion is made betwen undirected graphs, where edges link two vertices symmetrically, and directed graphs, where edges link two vertices asymmetrically. Graphs are one of the principal objects of study in discrete mathematics.\n",
    "\n",
    "### Definition\n",
    "**A graph** is an ordered pair G = (V, E) comprising:\n",
    "- V: a set of vertices\n",
    "- E: (x, y belong to V and x # y),a set of edges, which are unordered pairs of vertices."
   ]
  },
  {
   "cell_type": "markdown",
   "metadata": {},
   "source": []
  }
 ],
 "metadata": {
  "language_info": {
   "name": "python"
  }
 },
 "nbformat": 4,
 "nbformat_minor": 2
}
