{
 "cells": [
  {
   "cell_type": "code",
   "execution_count": 2,
   "metadata": {},
   "outputs": [],
   "source": [
    "from collections import defaultdict "
   ]
  },
  {
   "cell_type": "code",
   "execution_count": 15,
   "metadata": {},
   "outputs": [],
   "source": [
    "n = 10\n",
    "dp = [defaultdict(int) for _ in range(n)]"
   ]
  },
  {
   "cell_type": "code",
   "execution_count": 12,
   "metadata": {},
   "outputs": [
    {
     "data": {
      "text/plain": [
       "[defaultdict(int, {'a': 123}),\n",
       " defaultdict(int, {}),\n",
       " defaultdict(int, {'b': 'abc'}),\n",
       " defaultdict(int, {}),\n",
       " defaultdict(int, {}),\n",
       " defaultdict(int, {}),\n",
       " defaultdict(int, {}),\n",
       " defaultdict(int, {}),\n",
       " defaultdict(int, {}),\n",
       " defaultdict(int, {})]"
      ]
     },
     "execution_count": 12,
     "metadata": {},
     "output_type": "execute_result"
    }
   ],
   "source": [
    "dp[0]['a'] = 123\n",
    "dp[2]['b'] = 'abc'\n",
    "dp"
   ]
  },
  {
   "cell_type": "code",
   "execution_count": 13,
   "metadata": {},
   "outputs": [
    {
     "data": {
      "text/plain": [
       "0"
      ]
     },
     "execution_count": 13,
     "metadata": {},
     "output_type": "execute_result"
    }
   ],
   "source": [
    "# The functionality of both dictionaries and defaultdict are almost same except for the fact \n",
    "# that defaultdict never raises a KeyError. It provides a default value for the key that does not exists.\n",
    "dp[0]['x']"
   ]
  },
  {
   "cell_type": "code",
   "execution_count": 16,
   "metadata": {},
   "outputs": [
    {
     "name": "stdout",
     "output_type": "stream",
     "text": [
      "defaultdict(<class 'int'>, {1: 2, 2: 3, 3: 1, 4: 2})\n"
     ]
    }
   ],
   "source": [
    "d = defaultdict(int)\n",
    "L = [1, 2, 3, 4, 2, 4, 1, 2]\n",
    "for i in L:\n",
    "    # The default value is 0 \n",
    "    # so there is no need to  \n",
    "    # enter the key first \n",
    "    d[i] += 1\n",
    "\n",
    "print(d)"
   ]
  },
  {
   "cell_type": "code",
   "execution_count": null,
   "metadata": {},
   "outputs": [],
   "source": []
  }
 ],
 "metadata": {
  "kernelspec": {
   "display_name": "Python 3",
   "language": "python",
   "name": "python3"
  },
  "language_info": {
   "codemirror_mode": {
    "name": "ipython",
    "version": 3
   },
   "file_extension": ".py",
   "mimetype": "text/x-python",
   "name": "python",
   "nbconvert_exporter": "python",
   "pygments_lexer": "ipython3",
   "version": "3.10.13"
  }
 },
 "nbformat": 4,
 "nbformat_minor": 2
}
