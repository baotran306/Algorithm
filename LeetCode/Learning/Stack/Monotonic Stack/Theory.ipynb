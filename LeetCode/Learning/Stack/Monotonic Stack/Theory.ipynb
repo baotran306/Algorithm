{
 "cells": [
  {
   "cell_type": "markdown",
   "metadata": {},
   "source": [
    "## Monotoric Stack\n",
    "A monotonic stack is a stack whose elements are monotonically increasing or decreasing. It contains all qualities that a typical stack has and its elements are all monotonic decreasing or increasing.\\\n",
    "**Features**:\n",
    "- It is a range of queries in an array situation\n",
    "- The minima/maxima elements\n",
    "- When an element is popped from the monotonic stack, it will never be utilised again\n",
    "\n",
    "**Maily the previous/next smaller/larger problems. It maintains monotonicity while popping elements when a new item is pushed into the stack**\n",
    "\n",
    "### Application of Monotonic Stack:\n",
    "- Generally used to deal with typical problem like **[Next Greater Element](https://www.geeksforgeeks.org/next-greater-element/)**. Find the first value o the right that is greater than the elements.\n",
    "- Used for its varieties:\n",
    "    - Next smaller element\n",
    "    - Previous greater element\n",
    "    - Previous smaller element\n",
    "- Get the greatest or smallest array or string by the given conditions (remaining size k/ no duplicates)\n",
    "### Advantages of Monotonic Stack:\n",
    "- Use the extra space of a monotonic stack to reduce the time complexity.\n",
    "    - We can get the nearst smaller or greater element depeding on the monotonic stack type, by just retrieving the stack's top element, which is just an O(1) operation.\n",
    "- The monotonic stack helps us maintain maximum and minimum elements in the range and keeps the order of elements in the range. Therefore, we don’t need to compare elements one by one again to get minima and maxima in the range. Meanwhile, because it keeps the element’s order, we only need to update the stack based on the newest added element.\n",
    "### Disadvantages of Monotonic Stack:\n",
    "- It increases the space complexity of the algorithm by a factor of O(N).\n",
    "- More complex to handle as now with the existing problem. Need to handle the stack carefully. Once the elements are popped from the stack, we cannot get them back."
   ]
  },
  {
   "cell_type": "code",
   "execution_count": 5,
   "metadata": {},
   "outputs": [
    {
     "name": "stdout",
     "output_type": "stream",
     "text": [
      "[1, 3, 15, 17]\n",
      "[17, 14, 10]\n"
     ]
    }
   ],
   "source": [
    "# Create a monotonic increasing stack\n",
    "def increasing_mono_stack(ls_input):\n",
    "    len_ls = len(ls_input)\n",
    "    stack = []\n",
    "\n",
    "    for i in range(len_ls):\n",
    "        while stack and stack[-1] > ls_input[i]:\n",
    "            stack.pop()\n",
    "        stack.append(ls_input[i])\n",
    "    \n",
    "    return stack\n",
    "\n",
    "# Create a monotonic decreasing stack\n",
    "def decreasing_mono_stack(ls_input):\n",
    "    len_ls = len(ls_input)\n",
    "    stack = []\n",
    "\n",
    "    for i in range(len_ls):\n",
    "        while stack and stack[-1] < ls_input[i]:\n",
    "            stack.pop()\n",
    "        stack.append(ls_input[i])\n",
    "\n",
    "    return stack\n",
    "\n",
    "ls = [1, 10, 3, 15, 17]\n",
    "print(increasing_mono_stack(ls))\n",
    "arr = [15, 17, 12, 13, 14, 10]\n",
    "print(decreasing_mono_stack(arr))"
   ]
  },
  {
   "cell_type": "code",
   "execution_count": null,
   "metadata": {},
   "outputs": [],
   "source": []
  }
 ],
 "metadata": {
  "kernelspec": {
   "display_name": "Python 3",
   "language": "python",
   "name": "python3"
  },
  "language_info": {
   "codemirror_mode": {
    "name": "ipython",
    "version": 3
   },
   "file_extension": ".py",
   "mimetype": "text/x-python",
   "name": "python",
   "nbconvert_exporter": "python",
   "pygments_lexer": "ipython3",
   "version": "3.10.13"
  }
 },
 "nbformat": 4,
 "nbformat_minor": 2
}
