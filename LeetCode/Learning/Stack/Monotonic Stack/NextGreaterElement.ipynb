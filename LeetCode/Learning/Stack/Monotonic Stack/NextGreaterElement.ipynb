{
 "cells": [
  {
   "cell_type": "markdown",
   "metadata": {},
   "source": [
    "### Exercise: The **Next greater Element** for an element x is the first greater element on the right side of x in the array. Elements for which no greater element exist, consider the next greater element as -1. \n",
    "\n",
    "Input: arr[] = [ 4 , 5 , 2 , 25 ]\\\n",
    "Output:  4      –>   5\\\n",
    "               5      –>   25\\\n",
    "               2      –>   25\\\n",
    "              25     –>   -1\\\n",
    "Explanation: except 25 every element has an element greater than them present on the right side\\\n",
    "\n",
    "Input: arr[] = [ 13 , 7, 6 , 12 ]\\\n",
    "Output:  13      –>    -1\\\n",
    "                7       –>     12\\\n",
    "                6       –>     12\\\n",
    "               12      –>     -1\\\n",
    "Explanation: 13 and 12 don’t have any element greater than them present on the right side"
   ]
  },
  {
   "cell_type": "markdown",
   "metadata": {},
   "source": []
  },
  {
   "cell_type": "code",
   "execution_count": 1,
   "metadata": {},
   "outputs": [],
   "source": [
    "def print_nge(arr):\n",
    "    stack = []\n",
    "    next = 0\n",
    "    len_arr = len(arr)\n",
    "    ls_ans = []\n",
    "    # push first to stack\n",
    "    stack.append(arr[0])\n",
    "\n",
    "    for i in range(1, len_arr):\n",
    "        # get value\n",
    "        next = arr[i]\n",
    "        # if next greater than top of stack.\n",
    "        # Then next is nearest greater of number in top of stack\n",
    "        # Add to list ans, and remove top element\n",
    "        # Until top of stack greater than next.\n",
    "        while stack and next > stack[-1]:\n",
    "            cur_ele = stack.pop()\n",
    "            ls_ans.append((cur_ele, next))\n",
    "\n",
    "        stack.append(next)\n",
    "\n",
    "    # If stack not empty mean their are not greater number of this number\n",
    "    # So pop this number with -1 until the stack empty\n",
    "    while stack:\n",
    "        cur_ele = stack.pop()\n",
    "        ls_ans.append((cur_ele, -1))\n",
    "\n",
    "    return ls_ans"
   ]
  },
  {
   "cell_type": "code",
   "execution_count": 4,
   "metadata": {},
   "outputs": [
    {
     "name": "stdout",
     "output_type": "stream",
     "text": [
      "[(11, 13), (13, 21), (3, -1), (21, -1)]\n",
      "[(4, 5), (2, 25), (5, 25), (25, -1)]\n",
      "[(6, 12), (7, 12), (12, -1), (13, -1)]\n",
      "[(5, 6), (6, 7), (1, 3), (2, 3), (3, 9), (7, 9), (9, -1)]\n"
     ]
    }
   ],
   "source": [
    "print(print_nge([11, 13, 21, 3]))\n",
    "print(print_nge([4 , 5 , 2 , 25]))\n",
    "print(print_nge([13 , 7, 6 , 12]))\n",
    "print(print_nge([5, 6, 7, 2, 1, 3, 9]))"
   ]
  },
  {
   "cell_type": "code",
   "execution_count": null,
   "metadata": {},
   "outputs": [],
   "source": []
  }
 ],
 "metadata": {
  "kernelspec": {
   "display_name": "Python 3",
   "language": "python",
   "name": "python3"
  },
  "language_info": {
   "codemirror_mode": {
    "name": "ipython",
    "version": 3
   },
   "file_extension": ".py",
   "mimetype": "text/x-python",
   "name": "python",
   "nbconvert_exporter": "python",
   "pygments_lexer": "ipython3",
   "version": "3.10.13"
  }
 },
 "nbformat": 4,
 "nbformat_minor": 2
}
