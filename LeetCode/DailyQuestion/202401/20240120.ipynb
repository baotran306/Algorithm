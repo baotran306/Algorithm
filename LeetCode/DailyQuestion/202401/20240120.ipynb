{
 "cells": [
  {
   "cell_type": "markdown",
   "metadata": {},
   "source": [
    "### [907. Sum of Subarray Minimums](https://leetcode.com/problems/sum-of-subarray-minimums)\n",
    "\n",
    "Given an array of integers arr, find the sum of min(b), where b ranges over every (contiguous) subarray of arr. Since the answer may be large, return the answer modulo 109 + 7.\n",
    "\n",
    "**Example 1:**\n",
    "\n",
    "Input: arr = [3,1,2,4]\\\n",
    "Output: 17\\\n",
    "Explanation: \\\n",
    "Subarrays are [3], [1], [2], [4], [3,1], [1,2], [2,4], [3,1,2], [1,2,4], [3,1,2,4]. \\\n",
    "Minimums are 3, 1, 2, 4, 1, 1, 2, 1, 1, 1.\\\n",
    "Sum is 17.\\\n",
    "**Example 2:**\n",
    "\n",
    "Input: arr = [11,81,94,43,3]\\\n",
    "Output: 444\n",
    " \n",
    "\n",
    "Constraints:\n",
    "\n",
    "- 1 <= arr.length <= 3 * 104\n",
    "- 1 <= arr[i] <= 3 * 104"
   ]
  },
  {
   "cell_type": "markdown",
   "metadata": {},
   "source": []
  },
  {
   "cell_type": "code",
   "execution_count": 11,
   "metadata": {},
   "outputs": [],
   "source": [
    "from typing import List\n",
    "class Solution:\n",
    "    def sumSubarrayMins(self, arr: List[int]) -> int:\n",
    "        modulo = 10**9+7\n",
    "        ans = 0\n",
    "        len_arr = len(arr)\n",
    "        stack = [] # Create mono stack store (index, number)\n",
    "\n",
    "        for arr_idx, arr_val in enumerate(arr):\n",
    "            while stack and arr_val < stack[-1][1]:\n",
    "                cur_min_val_dix, cur_min_val = stack.pop()\n",
    "\n",
    "                if stack: \n",
    "                    # if mono stack not empty mean contains number smaller than cur_val\n",
    "                    # so just count number subarray can create by with the nearest => top of stack\n",
    "                    left = cur_min_val_dix - stack[-1][0]\n",
    "                else:\n",
    "                    # mean the current value is the smallest on the left substring\n",
    "                    # so just need count with index + 1 (index start from 0)\n",
    "                    left = cur_min_val_dix + 1\n",
    "                right = arr_idx - cur_min_val_dix\n",
    "\n",
    "                print(f'in st {cur_min_val, left, right}')\n",
    "\n",
    "                ans = (ans + cur_min_val * left * right) % modulo\n",
    "\n",
    "            stack.append((arr_idx, arr_val))\n",
    "\n",
    "        # Process for all monostack remain\n",
    "        print(stack)\n",
    "        len_remain = len(stack)\n",
    "        for i in range(len_remain):\n",
    "            idx, val = stack[i]\n",
    "            # count substring left\n",
    "            if i > 0:\n",
    "                left = idx - stack[i-1][0]\n",
    "            else:\n",
    "                left = idx + 1\n",
    "            # count substring from cur index to end of arr\n",
    "            right = len_arr - idx\n",
    "            print(f'remain st: {val , left , right}')\n",
    "            ans = (ans + val * left * right) % modulo\n",
    "\n",
    "        return ans % modulo"
   ]
  },
  {
   "cell_type": "code",
   "execution_count": 12,
   "metadata": {},
   "outputs": [],
   "source": [
    "sol = Solution()"
   ]
  },
  {
   "cell_type": "code",
   "execution_count": 13,
   "metadata": {},
   "outputs": [
    {
     "name": "stdout",
     "output_type": "stream",
     "text": [
      "in st (3, 1, 1)\n",
      "[(1, 1), (2, 2), (3, 4)]\n",
      "remain st: (1, 2, 3)\n",
      "remain st: (2, 1, 2)\n",
      "remain st: (4, 1, 1)\n",
      "17\n"
     ]
    }
   ],
   "source": [
    "print(sol.sumSubarrayMins([3, 1, 2, 4]))"
   ]
  },
  {
   "cell_type": "code",
   "execution_count": 14,
   "metadata": {},
   "outputs": [
    {
     "name": "stdout",
     "output_type": "stream",
     "text": [
      "[(0, 1), (1, 2), (2, 3), (3, 4), (4, 5)]\n",
      "remain st: (1, 1, 5)\n",
      "remain st: (2, 1, 4)\n",
      "remain st: (3, 1, 3)\n",
      "remain st: (4, 1, 2)\n",
      "remain st: (5, 1, 1)\n",
      "35\n"
     ]
    }
   ],
   "source": [
    "print(sol.sumSubarrayMins([1, 2 , 3 , 4, 5]))"
   ]
  },
  {
   "cell_type": "code",
   "execution_count": 15,
   "metadata": {},
   "outputs": [
    {
     "name": "stdout",
     "output_type": "stream",
     "text": [
      "in st (9, 1, 1)\n",
      "in st (5, 2, 1)\n",
      "[(2, 3)]\n",
      "remain st: (3, 3, 1)\n",
      "28\n"
     ]
    }
   ],
   "source": [
    "print(sol.sumSubarrayMins([9, 5, 3]))"
   ]
  },
  {
   "cell_type": "code",
   "execution_count": null,
   "metadata": {},
   "outputs": [],
   "source": []
  }
 ],
 "metadata": {
  "kernelspec": {
   "display_name": "Python 3",
   "language": "python",
   "name": "python3"
  },
  "language_info": {
   "codemirror_mode": {
    "name": "ipython",
    "version": 3
   },
   "file_extension": ".py",
   "mimetype": "text/x-python",
   "name": "python",
   "nbconvert_exporter": "python",
   "pygments_lexer": "ipython3",
   "version": "3.10.13"
  }
 },
 "nbformat": 4,
 "nbformat_minor": 2
}
