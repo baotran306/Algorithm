{
 "cells": [
  {
   "cell_type": "markdown",
   "metadata": {},
   "source": [
    "### [1457. Pseudo-Palindromic Paths in a Binary Tree](https://leetcode.com/problems/pseudo-palindromic-paths-in-a-binary-tree)\n",
    "\n",
    "Given a binary tree where node values are digits from 1 to 9. A path in the binary tree is said to be pseudo-palindromic if at least one permutation of the node values in the path is a palindrome.\n",
    "\n",
    "Return the number of pseudo-palindromic paths going from the root node to leaf nodes.\n",
    "\n",
    "Example 1:\n",
    "\n",
    "Input: root = [2,3,1,3,1,null,1]\\\n",
    "Output: 2 \\\n",
    "Explanation: The figure above represents the given binary tree. There are three paths going from the root node to leaf nodes: the red path [2,3,3], the green path [2,1,1], and the path [2,3,1]. Among these paths only red path and green path are pseudo-palindromic paths since the red path [2,3,3] can be rearranged in [3,2,3] (palindrome) and the green path [2,1,1] can be rearranged in [1,2,1] (palindrome).\\\n",
    "Example 2:\n",
    "\n",
    "Input: root = [2,1,1,1,3,null,null,null,null,null,1]\\\n",
    "Output: 1 \\\n",
    "Explanation: The figure above represents the given binary tree. There are three paths going from the root node to leaf nodes: the green path [2,1,1], the path [2,1,3,1], and the path [2,1]. Among these paths only the green path is pseudo-palindromic since [2,1,1] can be rearranged in [1,2,1] (palindrome).\\\n",
    "Example 3:\n",
    "\n",
    "Input: root = [9]\\\n",
    "Output: 1\n",
    " \n",
    "\n",
    "Constraints:\n",
    "\n",
    "- The number of nodes in the tree is in the range [1, 105].\n",
    "- 1 <= Node.val <= 9"
   ]
  },
  {
   "cell_type": "code",
   "execution_count": 2,
   "metadata": {},
   "outputs": [],
   "source": [
    "from typing import List, Optional\n",
    "class TreeNode:\n",
    "    def __init__(self, val=0, left=None, right=None):\n",
    "        self.val = val\n",
    "        self.left = left\n",
    "        self.right = right"
   ]
  },
  {
   "cell_type": "code",
   "execution_count": 3,
   "metadata": {},
   "outputs": [],
   "source": [
    "class Solution:\n",
    "    def pseudoPalindromicPaths (self, root: Optional[TreeNode]) -> int:\n",
    "        def dfs_travelser(cur, list_node_path, count_palin, dict_freq):\n",
    "            check_palin = False\n",
    "            list_node_path.append(cur.val)\n",
    "\n",
    "            if cur.left:\n",
    "                count_palin, dict_freq = dfs_travelser(cur.left, list_node_path, count_palin, dict_freq)\n",
    "            \n",
    "            if cur.right:\n",
    "                count_palin, dict_freq = dfs_travelser(cur.right, list_node_path, count_palin, dict_freq)\n",
    "\n",
    "            if cur.left is None and cur.right is None:\n",
    "                # Mean that node leaf. Check path going from the root node to leaf nodes is palin\n",
    "                check_palin = True\n",
    "                # print(dict_freq)\n",
    "                # print(count_palin)\n",
    "                # print(list_node_path)\n",
    "                count_freq_odd = 0\n",
    "                for freq in dict_freq.values():\n",
    "                    # If have more than one number with odd freq never rearrange to become palindromic\n",
    "                    # For example: 333444 can not, 1 can, 4433 can, 555 can, 5555333 can, 123 cannot\n",
    "                    if freq % 2 != 0 and freq != 0:\n",
    "                        count_freq_odd += 1\n",
    "                    if count_freq_odd == 2:\n",
    "                        # Make false\n",
    "                        check_palin = False\n",
    "                        break\n",
    "            \n",
    "            if check_palin: # count if palin\n",
    "                count_palin += 1\n",
    "            # pop current node from list, and substract freq of that\n",
    "            cur_val = list_node_path.pop()\n",
    "            dict_freq[cur_val] -= 1\n",
    "\n",
    "            return count_palin, dict_freq\n",
    "        \n",
    "        # dictionary to save the freq of all node before. \n",
    "        # So don't need to count freq of list_node_path again\n",
    "        res, _ = dfs_travelser(root, [], 0, {})\n",
    "\n",
    "        return res\n",
    "\n",
    "            "
   ]
  },
  {
   "cell_type": "code",
   "execution_count": null,
   "metadata": {},
   "outputs": [],
   "source": []
  }
 ],
 "metadata": {
  "kernelspec": {
   "display_name": "Python 3",
   "language": "python",
   "name": "python3"
  },
  "language_info": {
   "codemirror_mode": {
    "name": "ipython",
    "version": 3
   },
   "file_extension": ".py",
   "mimetype": "text/x-python",
   "name": "python",
   "nbconvert_exporter": "python",
   "pygments_lexer": "ipython3",
   "version": "3.10.13"
  }
 },
 "nbformat": 4,
 "nbformat_minor": 2
}
