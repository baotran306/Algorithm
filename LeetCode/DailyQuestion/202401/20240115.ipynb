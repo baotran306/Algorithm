{
 "cells": [
  {
   "cell_type": "markdown",
   "metadata": {},
   "source": [
    "### [2225. Find Players With Zero or One Losses](https://leetcode.com/problems/find-players-with-zero-or-one-losses)\n",
    "You are given an integer array matches where matches[i] = [winneri, loseri] indicates that the player winneri defeated player loseri in a match.\n",
    "\n",
    "Return a list answer of size 2 where:\n",
    "\n",
    "- answer[0] is a list of all players that have not lost any matches.\n",
    "- answer[1] is a list of all players that have lost exactly one match.\n",
    "- The values in the two lists should be returned in increasing order.\n",
    "\n",
    "Note:\n",
    "\n",
    "+ You should only consider the players that have played at least one match.\n",
    "+ The testcases will be generated such that no two matches will have the same outcome.\n",
    " \n",
    "Example 1:\n",
    "\n",
    "    Input: matches = [[1,3],[2,3],[3,6],[5,6],[5,7],[4,5],[4,8],[4,9],[10,4],[10,9]]\n",
    "    Output: [[1,2,10],[4,5,7,8]]\n",
    "    Explanation:\n",
    "    Players 1, 2, and 10 have not lost any matches.\n",
    "    Players 4, 5, 7, and 8 each have lost one match.\n",
    "    Players 3, 6, and 9 each have lost two matches.\n",
    "    Thus, answer[0] = [1,2,10] and answer[1] = [4,5,7,8].\n",
    "Example 2:\n",
    "\n",
    "    Input: matches = [[2,3],[1,3],[5,4],[6,4]].\n",
    "    Output: [[1,2,5,6],[]].\n",
    "    Explanation:.\n",
    "    Players 1, 2, 5, and 6 have not lost any matches.\n",
    "    Players 3 and 4 each have lost two matches.\n",
    "    Thus, answer[0] = [1,2,5,6] and answer[1] = [].\n",
    " \n",
    "\n",
    "Constraints:\n",
    "\n",
    "- 1 <= matches.length <= 105\n",
    "- matches[i].length == 2\n",
    "- 1 <= winneri, loseri <= 105\n",
    "- winneri != loseri\n",
    "- All matches[i] are unique."
   ]
  },
  {
   "cell_type": "code",
   "execution_count": 2,
   "metadata": {},
   "outputs": [],
   "source": [
    "from typing import List"
   ]
  },
  {
   "cell_type": "code",
   "execution_count": 3,
   "metadata": {},
   "outputs": [],
   "source": [
    "class Solution:\n",
    "    def findWinners(self, matches: List[List[int]]) -> List[List[int]]:\n",
    "        winners = {}\n",
    "        losers = {}\n",
    "        for win_person_id, lose_person_id in matches:\n",
    "            winners[win_person_id] = winners.get(win_person_id, 0) + 1\n",
    "            losers[lose_person_id] = losers.get(lose_person_id, 0) + 1\n",
    "            \n",
    "        ls_all_win = []\n",
    "        ls_lose_1 = []\n",
    "        for per_id, matches_win in winners.items():\n",
    "            if per_id not in losers.keys():\n",
    "                ls_all_win.append(per_id)\n",
    "\n",
    "        for per_id, matches_loses in losers.items():\n",
    "            if matches_loses == 1:\n",
    "                ls_lose_1.append(per_id)\n",
    "\n",
    "        return sorted(ls_all_win), sorted(ls_lose_1)"
   ]
  },
  {
   "cell_type": "code",
   "execution_count": 4,
   "metadata": {},
   "outputs": [],
   "source": [
    "class Solution2:\n",
    "    def findWinners(self, matches: List[List[int]]) -> List[List[int]]:\n",
    "        all_win, one_lose, more_lose = set(), set(), set()\n",
    "\n",
    "        for win_person_id, lose_person_id in matches:\n",
    "            if win_person_id not in one_lose and win_person_id not in more_lose:\n",
    "                all_win.add(win_person_id)\n",
    "\n",
    "            # remove if win, and now lose -> lose first match, remove all_win\n",
    "            if lose_person_id in all_win:\n",
    "                one_lose.add(lose_person_id)\n",
    "                all_win.remove(lose_person_id)\n",
    "            # if lose one before and lose now -> lose at least 2, remove\n",
    "            elif lose_person_id in one_lose:\n",
    "                one_lose.remove(lose_person_id)\n",
    "                more_lose.add(lose_person_id)\n",
    "            elif lose_person_id in more_lose:\n",
    "                continue\n",
    "            else:\n",
    "                # first time appear and lose, not have win or lose\n",
    "                one_lose.add(lose_person_id)\n",
    "\n",
    "        return sorted(all_win), sorted(one_lose)"
   ]
  },
  {
   "cell_type": "code",
   "execution_count": 5,
   "metadata": {},
   "outputs": [],
   "source": [
    "sol_dict = Solution()\n",
    "sol_set = Solution2()"
   ]
  },
  {
   "cell_type": "code",
   "execution_count": 6,
   "metadata": {},
   "outputs": [
    {
     "name": "stdout",
     "output_type": "stream",
     "text": [
      "([1, 2, 10], [4, 5, 7, 8])\n",
      "([1, 2, 10], [4, 5, 7, 8])\n"
     ]
    }
   ],
   "source": [
    "matches = [[1,3],[2,3],[3,6],[5,6],[5,7],[4,5],[4,8],[4,9],[10,4],[10,9]]\n",
    "print(sol_dict.findWinners(matches))\n",
    "print(sol_set.findWinners(matches))"
   ]
  },
  {
   "cell_type": "code",
   "execution_count": 7,
   "metadata": {},
   "outputs": [
    {
     "name": "stdout",
     "output_type": "stream",
     "text": [
      "([1, 2, 5, 6], [])\n",
      "([1, 2, 5, 6], [])\n"
     ]
    }
   ],
   "source": [
    "matches = [[2,3],[1,3],[5,4],[6,4]]\n",
    "print(sol_dict.findWinners(matches))\n",
    "print(sol_set.findWinners(matches))"
   ]
  },
  {
   "cell_type": "code",
   "execution_count": null,
   "metadata": {},
   "outputs": [],
   "source": []
  }
 ],
 "metadata": {
  "kernelspec": {
   "display_name": "Python 3",
   "language": "python",
   "name": "python3"
  },
  "language_info": {
   "codemirror_mode": {
    "name": "ipython",
    "version": 3
   },
   "file_extension": ".py",
   "mimetype": "text/x-python",
   "name": "python",
   "nbconvert_exporter": "python",
   "pygments_lexer": "ipython3",
   "version": "3.10.13"
  }
 },
 "nbformat": 4,
 "nbformat_minor": 2
}
