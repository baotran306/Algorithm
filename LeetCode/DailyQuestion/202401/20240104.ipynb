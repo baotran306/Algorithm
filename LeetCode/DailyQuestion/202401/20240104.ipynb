{
 "cells": [
  {
   "cell_type": "markdown",
   "metadata": {},
   "source": [
    "### 2870. Minimum Number of Operations to Make Array Empty\n",
    "\n",
    "You are given a 0-indexed array nums consisting of positive integers.\n",
    "\n",
    "There are two types of operations that you can apply on the array any number of times:\n",
    "\n",
    "Choose two elements with equal values and delete them from the array.\n",
    "Choose three elements with equal values and delete them from the array.\n",
    "Return the minimum number of operations required to make the array empty, or -1 if it is not possible.\n",
    "\n",
    " \n",
    "\n",
    "Example 1:\n",
    "\n",
    "Input: nums = [2,3,3,2,2,4,2,3,4]\n",
    "Output: 4\n",
    "Explanation: We can apply the following operations to make the array empty:\n",
    "- Apply the first operation on the elements at indices 0 and 3. The resulting array is nums = [3,3,2,4,2,3,4].\n",
    "- Apply the first operation on the elements at indices 2 and 4. The resulting array is nums = [3,3,4,3,4].\n",
    "- Apply the second operation on the elements at indices 0, 1, and 3. The resulting array is nums = [4,4].\n",
    "- Apply the first operation on the elements at indices 0 and 1. The resulting array is nums = [].\n",
    "It can be shown that we cannot make the array empty in less than 4 operations.\n",
    "Example 2:\n",
    "\n",
    "Input: nums = [2,1,2,2,3,3]\n",
    "Output: -1\n",
    "Explanation: It is impossible to empty the array.\n",
    " \n",
    "\n",
    "Constraints:\n",
    "\n",
    "- 2 <= nums.length <= 105\n",
    "- 1 <= nums[i] <= 106"
   ]
  },
  {
   "cell_type": "code",
   "execution_count": 1,
   "metadata": {},
   "outputs": [],
   "source": [
    "class Solution:\n",
    "    def minOperations(self, nums: list[int]) -> int:\n",
    "        dict_freq = {}\n",
    "        res = 0\n",
    "        for i in nums:\n",
    "            dict_freq[i] = dict_freq.get(i, 0) + 1\n",
    "        print(dict_freq)\n",
    "        for freq in dict_freq.values():\n",
    "            if freq == 1:\n",
    "                return -1\n",
    "            if freq % 3 == 0:\n",
    "                res += (freq // 3)\n",
    "            elif freq % 3 == 1:\n",
    "                max_mul_3 = (freq // 3) - 1\n",
    "                # max sub 3 + 2 * 2\n",
    "                res += max_mul_3 + (freq - max_mul_3 * 3) // 2\n",
    "            else:\n",
    "                res += (freq // 3) + 1\n",
    "        \n",
    "        return res"
   ]
  },
  {
   "cell_type": "markdown",
   "metadata": {},
   "source": []
  }
 ],
 "metadata": {
  "kernelspec": {
   "display_name": "Python 3",
   "language": "python",
   "name": "python3"
  },
  "language_info": {
   "codemirror_mode": {
    "name": "ipython",
    "version": 3
   },
   "file_extension": ".py",
   "mimetype": "text/x-python",
   "name": "python",
   "nbconvert_exporter": "python",
   "pygments_lexer": "ipython3",
   "version": "3.10.13"
  }
 },
 "nbformat": 4,
 "nbformat_minor": 2
}
