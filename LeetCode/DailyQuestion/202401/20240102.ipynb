{
 "cells": [
  {
   "cell_type": "markdown",
   "metadata": {},
   "source": [
    "### 2610. Convert an Array Into a 2D Array With Conditions\n",
    "\n",
    "You are given an integer array nums. You need to create a 2D array from nums satisfying the following conditions:\n",
    "\n",
    "The 2D array should contain only the elements of the array nums.\n",
    "Each row in the 2D array contains distinct integers.\n",
    "The number of rows in the 2D array should be minimal.\n",
    "Return the resulting array. If there are multiple answers, return any of them.\n",
    "\n",
    "Note that the 2D array can have a different number of elements on each row.\n",
    "\n",
    " \n",
    "\n",
    "Example 1:\n",
    "\n",
    "Input: nums = [1,3,4,1,2,3,1]\n",
    "Output: [[1,3,4,2],[1,3],[1]]\n",
    "Explanation: We can create a 2D array that contains the following rows:\n",
    "- 1,3,4,2\n",
    "- 1,3\n",
    "- 1\n",
    "All elements of nums were used, and each row of the 2D array contains distinct integers, so it is a valid answer.\n",
    "It can be shown that we cannot have less than 3 rows in a valid array.\n",
    "Example 2:\n",
    "\n",
    "Input: nums = [1,2,3,4]\n",
    "Output: [[4,3,2,1]]\n",
    "Explanation: All elements of the array are distinct, so we can keep all of them in the first row of the 2D array."
   ]
  },
  {
   "cell_type": "code",
   "execution_count": 3,
   "metadata": {},
   "outputs": [],
   "source": [
    "# Solution 1\n",
    "class Solution:\n",
    "    def findMatrix(self, nums: list[int]) -> list[list[int]]:\n",
    "        res = []\n",
    "        # 1 <= nums[i] <= nums.length\n",
    "        # Create freq list, when index is number and value is apperances\n",
    "        freq = [0] * (len(nums) + 1)\n",
    "\n",
    "        for i in nums:\n",
    "            # Max number apperances of number x is the minimal elements's number in list result\n",
    "            if freq[i] >= len(res):\n",
    "                res.append([])\n",
    "\n",
    "            res[freq[i]].append(i)\n",
    "            freq[i] = freq[i] + 1\n",
    "\n",
    "        return res"
   ]
  },
  {
   "cell_type": "code",
   "execution_count": 4,
   "metadata": {},
   "outputs": [],
   "source": [
    "# Solution 2\n",
    "class Solution:\n",
    "    def findMatrix(self, nums: list[int]) -> list[list[int]]:\n",
    "        def helper(remain_stack):\n",
    "            tmp = []\n",
    "            stack = []\n",
    "            i = 0\n",
    "            len_num = len(remain_stack)\n",
    "            while i < len_num:\n",
    "                if remain_stack[i] not in tmp:\n",
    "                    tmp.append(remain_stack[i])\n",
    "                else:\n",
    "                    stack.append(remain_stack[i])\n",
    "                i += 1\n",
    "            return tmp, stack\n",
    "\n",
    "\n",
    "        res = []\n",
    "        while True:\n",
    "            cur_ls, rest_nums = helper(nums)\n",
    "            # print(cur_ls, rest_nums)\n",
    "            nums = rest_nums\n",
    "            if len(cur_ls) == 0:\n",
    "                break\n",
    "            res.append(cur_ls)\n",
    "\n",
    "        return res"
   ]
  },
  {
   "cell_type": "code",
   "execution_count": 5,
   "metadata": {},
   "outputs": [],
   "source": [
    "# Solution 3\n",
    "class Solution:\n",
    "    def findMatrix(self, nums: list[int]) -> list[list[int]]:\n",
    "        dict_cnt = {}\n",
    "        for i in nums:\n",
    "            # Save frequency of number\n",
    "            dict_cnt[i] = dict_cnt.get(i, 0) + 1\n",
    "        # 1 : 3, 3: 2, 2: 1, 1: 1\n",
    "        res = []\n",
    "        while dict_cnt:\n",
    "            cur = []\n",
    "            del_nums = []\n",
    "            for number, cnt_app in dict_cnt.items():\n",
    "                cur.append(number)\n",
    "                if cnt_app == 1:\n",
    "                    del_nums.append(number)\n",
    "                else:\n",
    "                    dict_cnt[number] = cnt_app - 1\n",
    "            res.append(cur)\n",
    "            # delete number empty\n",
    "            for num in del_nums:\n",
    "                del dict_cnt[num]\n",
    "\n",
    "        return res"
   ]
  },
  {
   "cell_type": "code",
   "execution_count": null,
   "metadata": {},
   "outputs": [],
   "source": []
  }
 ],
 "metadata": {
  "kernelspec": {
   "display_name": "Python 3",
   "language": "python",
   "name": "python3"
  },
  "language_info": {
   "codemirror_mode": {
    "name": "ipython",
    "version": 3
   },
   "file_extension": ".py",
   "mimetype": "text/x-python",
   "name": "python",
   "nbconvert_exporter": "python",
   "pygments_lexer": "ipython3",
   "version": "3.10.13"
  }
 },
 "nbformat": 4,
 "nbformat_minor": 2
}
