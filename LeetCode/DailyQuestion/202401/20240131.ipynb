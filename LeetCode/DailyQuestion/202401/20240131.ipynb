{
 "cells": [
  {
   "cell_type": "markdown",
   "metadata": {},
   "source": [
    "### [739. Daily Temperatures](https://leetcode.com/problems/daily-temperatures/description/?envType=daily-question&envId=2024-02-02)\n",
    "\n",
    "Given an array of integers temperatures represents the daily temperatures, return an array answer such that answer[i] is the number of days you have to wait after the ith day to get a warmer temperature. If there is no future day for which this is possible, keep answer[i] == 0 instead.\n",
    "\n",
    " \n",
    "\n",
    "Example 1:\n",
    "\n",
    "Input: temperatures = [73,74,75,71,69,72,76,73]\\\n",
    "Output: [1,1,4,2,1,1,0,0]\\\n",
    "Example 2:\n",
    "\n",
    "Input: temperatures = [30,40,50,60]\\\n",
    "Output: [1,1,1,0]\\\n",
    "Example 3:\n",
    "\n",
    "Input: temperatures = [30,60,90]\\\n",
    "Output: [1,1,0]\n",
    " \n",
    "\n",
    "Constraints:\n",
    "\n",
    "- 1 <= temperatures.length <= 105\n",
    "- 30 <= temperatures[i] <= 100"
   ]
  },
  {
   "cell_type": "code",
   "execution_count": 1,
   "metadata": {},
   "outputs": [],
   "source": [
    "from typing import List\n",
    "class Solution:\n",
    "    def dailyTemperatures(self, temperatures: List[int]) -> List[int]:\n",
    "        len_ls = len(temperatures)\n",
    "        stack = []\n",
    "        ans = [0] * len_ls\n",
    "        for i in range(len_ls - 1, -1, -1):\n",
    "            if not stack:\n",
    "                stack.append(i)\n",
    "                # mean current temp don't have any next date bigger\n",
    "                # ans[i] = 0. initial before\n",
    "            else:\n",
    "                while stack and temperatures[i] >= temperatures[stack[-1]]:\n",
    "                    stack.pop()\n",
    "\n",
    "                if stack:\n",
    "                    ans[i] = stack[-1] - i\n",
    "                # if empty mean don't have any next date bigger ans[i] = 0. initial before\n",
    "                stack.append(i)\n",
    "        return ans\n",
    "        "
   ]
  },
  {
   "cell_type": "code",
   "execution_count": 2,
   "metadata": {},
   "outputs": [],
   "source": [
    "sol = Solution()"
   ]
  },
  {
   "cell_type": "code",
   "execution_count": 3,
   "metadata": {},
   "outputs": [
    {
     "name": "stdout",
     "output_type": "stream",
     "text": [
      "---------\n",
      "List temperature: [73, 74, 75, 71, 69, 72, 76, 73]\n",
      "Ans: [1, 1, 4, 2, 1, 1, 0, 0]\n",
      "---------\n",
      "List temperature: [30, 40, 50, 60]\n",
      "Ans: [1, 1, 1, 0]\n",
      "---------\n",
      "List temperature: [30, 60, 90]\n",
      "Ans: [1, 1, 0]\n"
     ]
    }
   ],
   "source": [
    "ls_test = [\n",
    "    [73,74,75,71,69,72,76,73], \n",
    "    [30,40,50,60],\n",
    "    [30,60,90]\n",
    "]\n",
    "\n",
    "for test in ls_test:\n",
    "    print(\"---------\")\n",
    "    print(f\"List temperature: {test}\")\n",
    "    print(f\"Ans: {sol.dailyTemperatures(test)}\")"
   ]
  },
  {
   "cell_type": "code",
   "execution_count": null,
   "metadata": {},
   "outputs": [],
   "source": []
  }
 ],
 "metadata": {
  "kernelspec": {
   "display_name": "Python 3",
   "language": "python",
   "name": "python3"
  },
  "language_info": {
   "codemirror_mode": {
    "name": "ipython",
    "version": 3
   },
   "file_extension": ".py",
   "mimetype": "text/x-python",
   "name": "python",
   "nbconvert_exporter": "python",
   "pygments_lexer": "ipython3",
   "version": "3.10.13"
  }
 },
 "nbformat": 4,
 "nbformat_minor": 2
}
