{
 "cells": [
  {
   "cell_type": "markdown",
   "metadata": {},
   "source": [
    "### [872. Leaf-Similar Trees](https://leetcode.com/problems/leaf-similar-trees/)\n",
    "Consider all the leaves of a binary tree, from left to right order, the values of those leaves form a leaf value sequence.\n",
    "For example, in the given tree above, the leaf value sequence is (6, 7, 4, 9, 8).\n",
    "\n",
    "Two binary trees are considered leaf-similar if their leaf value sequence is the same.\n",
    "\n",
    "Return true if and only if the two given trees with head nodes root1 and root2 are leaf-similar.\n",
    "\n",
    "Example 1:\n",
    "\n",
    "\n",
    "Input: root1 = [3,5,1,6,2,9,8,null,null,7,4], root2 = [3,5,1,6,7,4,2,null,null,null,null,null,null,9,8]\n",
    "Output: true\n",
    "Example 2:\n",
    "\n",
    "\n",
    "Input: root1 = [1,2,3], root2 = [1,3,2]\n",
    "Output: false\n",
    " \n",
    "\n",
    "Constraints:\n",
    "\n",
    "- The number of nodes in each tree will be in the range [1, 200].\n",
    "- Both of the given trees will have values in the range [0, 200]."
   ]
  },
  {
   "cell_type": "code",
   "execution_count": 2,
   "metadata": {},
   "outputs": [],
   "source": [
    "# Definition for a binary tree node.\n",
    "class TreeNode:\n",
    "    def __init__(self, val=0, left=None, right=None):\n",
    "        self.val = val\n",
    "        self.left = left\n",
    "        self.right = right\n",
    "\n",
    "    def append_val(self, val):\n",
    "        print('---')\n",
    "        self.append_new(TreeNode(val))\n",
    "\n",
    "    def append_new(self, node):\n",
    "        _val = node.val\n",
    "\n",
    "        if _val < self.val:\n",
    "            if self.left:\n",
    "                print(f\"Moving left to append {_val}\")\n",
    "                self.left.append_new(node)\n",
    "            else:\n",
    "                print(f\"setting left {_val}\")\n",
    "                self.left = node\n",
    "\n",
    "        else:\n",
    "            if self.right:\n",
    "                print(f\"Moving right to append {_val}\")\n",
    "                self.right.append_new(node)\n",
    "            else:\n",
    "                print(f\"setting right {_val}\")\n",
    "                self.right = node\n",
    "class Solution:\n",
    "    def leafSimilar(self, root1: TreeNode, root2: TreeNode) -> bool:\n",
    "        def get_leaf_value(root):\n",
    "            leaf = []\n",
    "            stack = []\n",
    "            stack.append(root)\n",
    "            while stack:\n",
    "                cur = stack.pop()\n",
    "                if cur.left is None and cur.right is None:\n",
    "                    leaf.append(cur.val)\n",
    "\n",
    "                if cur.left is not None:\n",
    "                    stack.append(cur.left)\n",
    "                if cur.right is not None:\n",
    "                    stack.append(cur.right)\n",
    "\n",
    "            return leaf\n",
    "        \n",
    "        \n",
    "        leaf1 = get_leaf_value(root1)\n",
    "        print(leaf1)\n",
    "        leaf2 = get_leaf_value(root2)\n",
    "        print(leaf2)\n",
    "        if leaf1 != leaf2:\n",
    "            return False\n",
    "        return True"
   ]
  },
  {
   "cell_type": "code",
   "execution_count": 3,
   "metadata": {},
   "outputs": [],
   "source": [
    "root1 = [3,5,1,6,2,9,8,None,None,7,4] \n",
    "root2 = [3,5,1,6,7,4,2,None,None,None,None,None,None,9,8]"
   ]
  },
  {
   "cell_type": "code",
   "execution_count": 4,
   "metadata": {},
   "outputs": [
    {
     "name": "stdout",
     "output_type": "stream",
     "text": [
      "---\n",
      "setting right 5\n",
      "---\n",
      "setting left 1\n",
      "---\n",
      "Moving right to append 6\n",
      "setting right 6\n",
      "---\n",
      "Moving left to append 2\n",
      "setting right 2\n",
      "---\n",
      "Moving right to append 9\n",
      "Moving right to append 9\n",
      "setting right 9\n",
      "---\n",
      "Moving right to append 8\n",
      "Moving right to append 8\n",
      "Moving right to append 8\n",
      "setting left 8\n",
      "---\n",
      "Moving right to append 7\n",
      "Moving right to append 7\n",
      "Moving right to append 7\n",
      "Moving left to append 7\n",
      "setting left 7\n",
      "---\n",
      "Moving right to append 4\n",
      "setting left 4\n"
     ]
    },
    {
     "data": {
      "text/plain": [
       "<__main__.TreeNode at 0x7f1520621c00>"
      ]
     },
     "execution_count": 4,
     "metadata": {},
     "output_type": "execute_result"
    }
   ],
   "source": [
    "tree1 = None\n",
    "for i in root1:\n",
    "    if i is None:\n",
    "        continue\n",
    "    if tree1 is None:\n",
    "        tree1 = TreeNode(i)\n",
    "    else:\n",
    "        tree1.append_val(i)\n",
    "tree1"
   ]
  },
  {
   "cell_type": "code",
   "execution_count": 5,
   "metadata": {},
   "outputs": [
    {
     "name": "stdout",
     "output_type": "stream",
     "text": [
      "---\n",
      "setting right 5\n",
      "---\n",
      "setting left 1\n",
      "---\n",
      "Moving right to append 6\n",
      "setting right 6\n",
      "---\n",
      "Moving left to append 2\n",
      "setting right 2\n",
      "---\n",
      "Moving right to append 9\n",
      "Moving right to append 9\n",
      "setting right 9\n",
      "---\n",
      "Moving right to append 8\n",
      "Moving right to append 8\n",
      "Moving right to append 8\n",
      "setting left 8\n",
      "---\n",
      "Moving right to append 7\n",
      "Moving right to append 7\n",
      "Moving right to append 7\n",
      "Moving left to append 7\n",
      "setting left 7\n",
      "---\n",
      "Moving right to append 4\n",
      "setting left 4\n"
     ]
    },
    {
     "data": {
      "text/plain": [
       "<__main__.TreeNode at 0x7f1520621810>"
      ]
     },
     "execution_count": 5,
     "metadata": {},
     "output_type": "execute_result"
    }
   ],
   "source": [
    "tree2 = None\n",
    "for i in root1:\n",
    "    if i is None:\n",
    "        continue\n",
    "    if tree2 is None:\n",
    "        tree2 = TreeNode(i)\n",
    "    else:\n",
    "        tree2.append_val(i)\n",
    "tree2"
   ]
  },
  {
   "cell_type": "code",
   "execution_count": 6,
   "metadata": {},
   "outputs": [
    {
     "name": "stdout",
     "output_type": "stream",
     "text": [
      "[7, 4, 2]\n",
      "[7, 4, 2]\n",
      "True\n"
     ]
    }
   ],
   "source": [
    "print(Solution().leafSimilar(tree1, tree2))"
   ]
  },
  {
   "cell_type": "code",
   "execution_count": null,
   "metadata": {},
   "outputs": [],
   "source": []
  }
 ],
 "metadata": {
  "kernelspec": {
   "display_name": "Python 3",
   "language": "python",
   "name": "python3"
  },
  "language_info": {
   "codemirror_mode": {
    "name": "ipython",
    "version": 3
   },
   "file_extension": ".py",
   "mimetype": "text/x-python",
   "name": "python",
   "nbconvert_exporter": "python",
   "pygments_lexer": "ipython3",
   "version": "3.10.13"
  }
 },
 "nbformat": 4,
 "nbformat_minor": 2
}
