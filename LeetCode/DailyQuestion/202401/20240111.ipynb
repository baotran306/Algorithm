{
 "cells": [
  {
   "cell_type": "markdown",
   "metadata": {},
   "source": [
    "### [1026. Maximum Difference Between Node and Ancestor](https://leetcode.com/problems/maximum-difference-between-node-and-ancestor/)\n",
    "Given the root of a binary tree, find the maximum value v for which there exist different nodes a and b where v = |a.val - b.val| and a is an ancestor of b.\n",
    "\n",
    "A node a is an ancestor of b if either: any child of a is equal to b or any child of a is an ancestor of b.\n",
    "\n",
    " \n",
    "\n",
    "Example 1:\n",
    "\n",
    "\n",
    "Input: root = [8,3,10,1,6,null,14,null,null,4,7,13]\n",
    "Output: 7\n",
    "Explanation: We have various ancestor-node differences, some of which are given below :\n",
    "- |8 - 3| = 5\n",
    "- |3 - 7| = 4\n",
    "- |8 - 1| = 7\n",
    "- |10 - 13| = 3\n",
    "Among all possible differences, the maximum value of 7 is obtained by |8 - 1| = 7.\n",
    "Example 2:\n",
    "\n",
    "\n",
    "Input: root = [1,null,2,null,0,3]\n",
    "Output: 3\n",
    " \n",
    "\n",
    "Constraints:\n",
    "\n",
    "- The number of nodes in the tree is in the range [2, 5000].\n",
    "- 0 <= Node.val <= 105"
   ]
  },
  {
   "cell_type": "code",
   "execution_count": 1,
   "metadata": {},
   "outputs": [],
   "source": [
    "from typing import Optional"
   ]
  },
  {
   "cell_type": "code",
   "execution_count": 2,
   "metadata": {},
   "outputs": [],
   "source": [
    "# Definition for a binary tree node.\n",
    "class TreeNode:\n",
    "    def __init__(self, val=0, left=None, right=None):\n",
    "        self.val = val\n",
    "        self.left = left\n",
    "        self.right = right\n",
    "class Solution:\n",
    "    def maxAncestorDiff(self, root: Optional[TreeNode]) -> int:\n",
    "        def dfs_travelser(cur, list_node_ancestor, diff):\n",
    "\n",
    "            list_node_ancestor.append(cur.val)\n",
    "            \n",
    "            if cur.left is not None:\n",
    "                diff = dfs_travelser(cur.left, list_node_ancestor, diff)\n",
    "\n",
    "            if cur.right is not None:\n",
    "                diff = dfs_travelser(cur.right, list_node_ancestor, diff)\n",
    "\n",
    "            if cur.left is None and cur.right is None: # node leaf, end check max\n",
    "                diff = max(diff, max(list_node_ancestor) - min(list_node_ancestor))\n",
    "                print(list_node_ancestor)\n",
    "            list_node_ancestor.pop()\n",
    "            \n",
    "            return diff\n",
    "        \n",
    "        return dfs_travelser(root, [], 0)\n",
    "            \n",
    "                "
   ]
  }
 ],
 "metadata": {
  "kernelspec": {
   "display_name": "Python 3",
   "language": "python",
   "name": "python3"
  },
  "language_info": {
   "codemirror_mode": {
    "name": "ipython",
    "version": 3
   },
   "file_extension": ".py",
   "mimetype": "text/x-python",
   "name": "python",
   "nbconvert_exporter": "python",
   "pygments_lexer": "ipython3",
   "version": "3.10.13"
  }
 },
 "nbformat": 4,
 "nbformat_minor": 2
}
