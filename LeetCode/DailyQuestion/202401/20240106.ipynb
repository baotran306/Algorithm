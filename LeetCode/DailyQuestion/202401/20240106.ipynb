{
 "cells": [
  {
   "cell_type": "markdown",
   "metadata": {},
   "source": [
    "### 1235. Maximum Profit in Job Scheduling\n",
    "https://leetcode.com/problems/maximum-profit-in-job-scheduling\n",
    "We have n jobs, where every job is scheduled to be done from startTime[i] to endTime[i], obtaining a profit of profit[i].\n",
    "\n",
    "You're given the startTime, endTime and profit arrays, return the maximum profit you can take such that there are no two jobs in the subset with overlapping time range.\n",
    "\n",
    "If you choose a job that ends at time X you will be able to start another job that starts at time X.\n",
    "\n",
    "Example 1:\n",
    "\n",
    "\n",
    "\n",
    "Input: startTime = [1,2,3,3], endTime = [3,4,5,6], profit = [50,10,40,70]\n",
    "Output: 120\n",
    "Explanation: The subset chosen is the first and fourth job. \n",
    "Time range [1-3]+[3-6] , we get profit of 120 = 50 + 70.\n",
    "Example 2:\n",
    "\n",
    "\n",
    "\n",
    "Input: startTime = [1,2,3,4,6], endTime = [3,5,10,6,9], profit = [20,20,100,70,60]\n",
    "Output: 150\n",
    "Explanation: The subset chosen is the first, fourth and fifth job. \n",
    "Profit obtained 150 = 20 + 70 + 60.\n",
    "Example 3:\n",
    "\n",
    "\n",
    "\n",
    "Input: startTime = [1,1,1], endTime = [2,3,4], profit = [5,6,4]\n",
    "Output: 6\n",
    " \n",
    "\n",
    "Constraints:\n",
    "\n",
    "- 1 <= startTime.length == endTime.length == profit.length <= 5 * 104\n",
    "- 1 <= startTime[i] < endTime[i] <= 109\n",
    "- 1 <= profit[i] <= 104"
   ]
  },
  {
   "cell_type": "code",
   "execution_count": null,
   "metadata": {},
   "outputs": [],
   "source": []
  },
  {
   "cell_type": "code",
   "execution_count": 1,
   "metadata": {},
   "outputs": [],
   "source": [
    "class Solution:\n",
    "    def jobScheduling(self, startTime: list[int], endTime: list[int], profit: list[int]) -> int:\n",
    "        pass"
   ]
  },
  {
   "cell_type": "code",
   "execution_count": null,
   "metadata": {},
   "outputs": [],
   "source": []
  }
 ],
 "metadata": {
  "kernelspec": {
   "display_name": "Python 3",
   "language": "python",
   "name": "python3"
  },
  "language_info": {
   "codemirror_mode": {
    "name": "ipython",
    "version": 3
   },
   "file_extension": ".py",
   "mimetype": "text/x-python",
   "name": "python",
   "nbconvert_exporter": "python",
   "pygments_lexer": "ipython3",
   "version": "3.10.13"
  }
 },
 "nbformat": 4,
 "nbformat_minor": 2
}
