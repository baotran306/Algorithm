{
 "cells": [
  {
   "cell_type": "markdown",
   "metadata": {},
   "source": [
    "### [232. Implement Queue using Stacks](https://leetcode.com/problems/implement-queue-using-stacks)\n",
    "\n",
    "Implement a first in first out (FIFO) queue using only two stacks. The implemented queue should support all the functions of a normal queue (push, peek, pop, and empty).\n",
    "\n",
    "Implement the MyQueue class:\n",
    "\n",
    "void push(int x) Pushes element x to the back of the queue.\\\n",
    "int pop() Removes the element from the front of the queue and returns it.\\\n",
    "int peek() Returns the element at the front of the queue.\\\n",
    "boolean empty() Returns true if the queue is empty, false otherwise.\\\n",
    "Notes:\n",
    "\n",
    "You must use only standard operations of a stack, which means only push to top, peek/pop from top, size, and is empty operations are valid.\\\n",
    "Depending on your language, the stack may not be supported natively. You may simulate a stack using a list or deque (double-ended queue) as long as you use only a stack's standard operations.\n",
    " \n",
    "\n",
    "Example 1:\n",
    "\n",
    "Input\n",
    "[\"MyQueue\", \"push\", \"push\", \"peek\", \"pop\", \"empty\"]\n",
    "[[], [1], [2], [], [], []]\n",
    "Output\n",
    "[null, null, null, 1, 1, false]\n",
    "\n",
    "Explanation\n",
    "MyQueue myQueue = new MyQueue();\\\n",
    "myQueue.push(1); // queue is: [1]\\\n",
    "myQueue.push(2); // queue is: [1, 2] (leftmost is front of the queue)\\\n",
    "myQueue.peek(); // return 1\\\n",
    "myQueue.pop(); // return 1, queue is [2]\\\n",
    "myQueue.empty(); // return false\n",
    " \n",
    "\n",
    "Constraints:\n",
    "\n",
    "- 1 <= x <= 9\n",
    "- At most 100 calls will be made to push, pop, peek, and empty.\n",
    "- All the calls to pop and peek are valid."
   ]
  },
  {
   "cell_type": "code",
   "execution_count": 1,
   "metadata": {},
   "outputs": [],
   "source": [
    "class MyQueue:\n",
    "\n",
    "    def __init__(self):\n",
    "        self._stack_value = []\n",
    "        self._stack_swap = []\n",
    "\n",
    "    def push(self, x: int) -> None:\n",
    "        while self._stack_value:\n",
    "                self._stack_swap.append(self._stack_value.pop())\n",
    "        self._stack_value.append(x)\n",
    "        while self._stack_swap:\n",
    "                self._stack_value.append(self._stack_swap.pop())\n",
    "\n",
    "    def pop(self) -> int:\n",
    "        return self._stack_value.pop()\n",
    "\n",
    "    def peek(self) -> int:\n",
    "        return self._stack_value[-1]\n",
    "        \n",
    "\n",
    "    def empty(self) -> bool:\n",
    "        if len(self._list_value) == 0:\n",
    "            return True\n",
    "        return False"
   ]
  },
  {
   "cell_type": "code",
   "execution_count": null,
   "metadata": {},
   "outputs": [],
   "source": []
  }
 ],
 "metadata": {
  "kernelspec": {
   "display_name": "Python 3",
   "language": "python",
   "name": "python3"
  },
  "language_info": {
   "codemirror_mode": {
    "name": "ipython",
    "version": 3
   },
   "file_extension": ".py",
   "mimetype": "text/x-python",
   "name": "python",
   "nbconvert_exporter": "python",
   "pygments_lexer": "ipython3",
   "version": "3.10.13"
  }
 },
 "nbformat": 4,
 "nbformat_minor": 2
}
