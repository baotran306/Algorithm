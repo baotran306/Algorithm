{
 "cells": [
  {
   "cell_type": "markdown",
   "metadata": {},
   "source": [
    "### [576. Out of Boundary Paths](https://leetcode.com/problems/out-of-boundary-paths)\n",
    "\n",
    "There is an m x n grid with a ball. The ball is initially at the position [startRow, startColumn]. You are allowed to move the ball to one of the four adjacent cells in the grid (possibly out of the grid crossing the grid boundary). You can apply at most max_moves moves to the ball.\n",
    "\n",
    "Given the five integers m, n, maxMove, startRow, startColumn, return the number of paths to move the ball out of the grid boundary. Since the answer can be very large, return it modulo 109 + 7.\n",
    "\n",
    "Example 1:\n",
    "\n",
    "\n",
    "Input: m = 2, n = 2, maxMove = 2, startRow = 0, startColumn = 0\\\n",
    "Output: 6\\\n",
    "Example 2:\n",
    "\n",
    "\n",
    "Input: m = 1, n = 3, maxMove = 3, startRow = 0, startColumn = 1\\\n",
    "Output: 12\n",
    " \n",
    "\n",
    "Constraints:\n",
    "\n",
    "- 1 <= m, n <= 50\n",
    "- 0 <= maxMove <= 50\n",
    "- 0 <= startRow < m\n",
    "- 0 <= startColumn < n"
   ]
  },
  {
   "cell_type": "markdown",
   "metadata": {},
   "source": []
  },
  {
   "cell_type": "code",
   "execution_count": 15,
   "metadata": {},
   "outputs": [],
   "source": [
    "class Solution:\n",
    "    def find_paths_recursive(self, m: int, n: int, max_moves: int, start_row: int, start_cols: int) -> int:\n",
    "        MOD = 10**9 + 7\n",
    "        cache_cnt_path = {}\n",
    "\n",
    "        def dfs(r, c, remain_moves):\n",
    "            if r < 0 or c < 0 or r == m or c == n: # out of boundary\n",
    "                return 1\n",
    "            \n",
    "            if remain_moves == 0:\n",
    "                return 0\n",
    "            \n",
    "            if (r, c, remain_moves) in cache_cnt_path: # Save count path before, dont need to count again\n",
    "                return cache_cnt_path[(r, c, remain_moves)]\n",
    "            \n",
    "            cache_cnt_path[(r, c, remain_moves)] = (\n",
    "                dfs(r - 1, c, remain_moves - 1) % MOD + \n",
    "                dfs(r + 1, c, remain_moves - 1) % MOD +\n",
    "                dfs(r, c - 1, remain_moves - 1) % MOD +\n",
    "                dfs(r, c + 1, remain_moves - 1) % MOD \n",
    "            ) % MOD\n",
    "\n",
    "            return cache_cnt_path[(r, c, remain_moves)]\n",
    "\n",
    "        return dfs(start_row, start_cols, max_moves)\n",
    "    \n",
    "    def find_paths_dp(self, m: int, n: int, max_moves: int, start_row: int, start_cols: int) -> int:\n",
    "        MOD = 10**9 + 7\n",
    "        dp = [[0] * n for _ in range(m)]\n",
    "\n",
    "        for _ in range(1, max_moves + 1):\n",
    "            temp = [[0] * n for _ in range(m)]\n",
    "            for r in range(m):\n",
    "                for c in range(n):\n",
    "                    if r + 1 == m:\n",
    "                        temp[r][c] = temp[r][c] + 1\n",
    "                    else:\n",
    "                        temp[r][c] = (temp[r][c] + dp[r + 1][c]) % MOD\n",
    "                    if r - 1 < 0:\n",
    "                        temp[r][c] = temp[r][c] + 1\n",
    "                    else:\n",
    "                        temp[r][c] = (temp[r][c] + dp[r - 1][c]) % MOD\n",
    "                    if c + 1 == n:\n",
    "                        temp[r][c] = temp[r][c] + 1\n",
    "                    else:\n",
    "                        temp[r][c] = (temp[r][c] + dp[r][c + 1]) % MOD\n",
    "                    if c - 1 < 0:\n",
    "                        temp[r][c] = temp[r][c] + 1\n",
    "                    else:\n",
    "                        temp[r][c] = (temp[r][c] + dp[r][c - 1]) % MOD\n",
    "            dp = temp\n",
    "\n",
    "        return dp[start_row][start_cols]\n"
   ]
  },
  {
   "cell_type": "code",
   "execution_count": 16,
   "metadata": {},
   "outputs": [],
   "source": [
    "sol = Solution()"
   ]
  },
  {
   "cell_type": "code",
   "execution_count": 17,
   "metadata": {},
   "outputs": [
    {
     "name": "stdout",
     "output_type": "stream",
     "text": [
      "---\n",
      "6\n",
      "6\n",
      "---\n",
      "12\n",
      "12\n",
      "---\n",
      "1\n",
      "1\n"
     ]
    }
   ],
   "source": [
    "ls_test = [\n",
    "    dict(m = 2, n = 2, max_moves = 2, start_row = 0, start_cols = 0),\n",
    "    dict(m = 1, n = 3, max_moves = 3, start_row = 0, start_cols = 1),\n",
    "    dict(m = 3, n = 3, max_moves = 1, start_row = 0, start_cols = 1)\n",
    "]\n",
    "for test in ls_test:\n",
    "    print(\"---\")\n",
    "    print(sol.find_paths_dp(test[\"m\"], test[\"n\"], test[\"max_moves\"], test[\"start_row\"], test[\"start_cols\"]))\n",
    "    print(sol.find_paths_recursive(test[\"m\"], test[\"n\"], test[\"max_moves\"], test[\"start_row\"], test[\"start_cols\"]))"
   ]
  },
  {
   "cell_type": "code",
   "execution_count": 8,
   "metadata": {},
   "outputs": [
    {
     "name": "stdout",
     "output_type": "stream",
     "text": [
      "6\n",
      "12\n",
      "5\n"
     ]
    }
   ],
   "source": []
  },
  {
   "cell_type": "code",
   "execution_count": null,
   "metadata": {},
   "outputs": [],
   "source": []
  }
 ],
 "metadata": {
  "kernelspec": {
   "display_name": "Python 3",
   "language": "python",
   "name": "python3"
  },
  "language_info": {
   "codemirror_mode": {
    "name": "ipython",
    "version": 3
   },
   "file_extension": ".py",
   "mimetype": "text/x-python",
   "name": "python",
   "nbconvert_exporter": "python",
   "pygments_lexer": "ipython3",
   "version": "3.10.13"
  }
 },
 "nbformat": 4,
 "nbformat_minor": 2
}
