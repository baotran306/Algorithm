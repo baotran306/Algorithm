{
 "cells": [
  {
   "cell_type": "markdown",
   "metadata": {},
   "source": [
    "### [576. Out of Boundary Paths](https://leetcode.com/problems/out-of-boundary-paths)\n",
    "\n",
    "There is an m x n grid with a ball. The ball is initially at the position [startRow, startColumn]. You are allowed to move the ball to one of the four adjacent cells in the grid (possibly out of the grid crossing the grid boundary). You can apply at most maxMove moves to the ball.\n",
    "\n",
    "Given the five integers m, n, maxMove, startRow, startColumn, return the number of paths to move the ball out of the grid boundary. Since the answer can be very large, return it modulo 109 + 7.\n",
    "\n",
    "Example 1:\n",
    "\n",
    "\n",
    "Input: m = 2, n = 2, maxMove = 2, startRow = 0, startColumn = 0\\\n",
    "Output: 6\\\n",
    "Example 2:\n",
    "\n",
    "\n",
    "Input: m = 1, n = 3, maxMove = 3, startRow = 0, startColumn = 1\\\n",
    "Output: 12\n",
    " \n",
    "\n",
    "Constraints:\n",
    "\n",
    "- 1 <= m, n <= 50\n",
    "- 0 <= maxMove <= 50\n",
    "- 0 <= startRow < m\n",
    "- 0 <= startColumn < n"
   ]
  },
  {
   "cell_type": "markdown",
   "metadata": {},
   "source": []
  }
 ],
 "metadata": {
  "language_info": {
   "name": "python"
  }
 },
 "nbformat": 4,
 "nbformat_minor": 2
}
