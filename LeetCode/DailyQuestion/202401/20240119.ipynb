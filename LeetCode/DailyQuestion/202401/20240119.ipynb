{
 "cells": [
  {
   "cell_type": "markdown",
   "metadata": {},
   "source": [
    "### [931. Minimum Falling Path Sum](https://leetcode.com/problems/minimum-falling-path-sum/)\n",
    "Given an n x n array of integers matrix, return the minimum sum of any falling path through matrix.\n",
    "\n",
    "A falling path starts at any element in the first row and chooses the element in the next row that is either directly below or diagonally left/right. Specifically, the next element from position (row, col) will be (row + 1, col - 1), (row + 1, col), or (row + 1, col + 1).\n",
    "\n",
    " \n",
    "\n",
    "Example 1:\n",
    "\n",
    "\n",
    "Input: matrix = [[2,1,3],[6,5,4],[7,8,9]]\n",
    "Output: 13\n",
    "Explanation: There are two falling paths with a minimum sum as shown.\n",
    "Example 2:\n",
    "\n",
    "\n",
    "Input: matrix = [[-19,57],[-40,-5]]\n",
    "Output: -59\n",
    "Explanation: The falling path with a minimum sum is shown.\n",
    " \n",
    "\n",
    "Constraints:\n",
    "\n",
    "- n == matrix.length == matrix[i].length\n",
    "- 1 <= n <= 100\n",
    "- -100 <= matrix[i][j] <= 100"
   ]
  },
  {
   "cell_type": "code",
   "execution_count": 3,
   "metadata": {},
   "outputs": [],
   "source": [
    "from typing import List\n",
    "class Solution:\n",
    "    def minFallingPathSum(self, matrix: List[List[int]]) -> int:\n",
    "        len_matrix = len(matrix)\n",
    "        if len_matrix == 1:\n",
    "            return matrix[0][0]\n",
    "        # DP Bottom-up\n",
    "        for row in range(1, len_matrix):\n",
    "            for col in range(len_matrix):\n",
    "                # chooses the element in the next row that is either directly below or diagonally left/right.\n",
    "                # 1 <= n <= 100 and -100 <= matrix[i][j] <= 100\n",
    "                # then max_value cannot > 100000\n",
    "                top = diag_left = diag_right = 100001\n",
    "                if row - 1 >= 0:\n",
    "                    top = matrix[row-1][col]\n",
    "                    if col - 1 >= 0:\n",
    "                        diag_left = matrix[row-1][col-1]\n",
    "                    if col + 1 < len_matrix:\n",
    "                        diag_right = matrix[row-1][col+1]\n",
    "                # Update Minimum Falling Path to current row, column \n",
    "                matrix[row][col] += min(top, diag_left, diag_right)\n",
    "        # print(matrix[len_matrix - 1])\n",
    "        return min(matrix[len_matrix - 1])"
   ]
  },
  {
   "cell_type": "code",
   "execution_count": 4,
   "metadata": {},
   "outputs": [],
   "source": [
    "sol = Solution()"
   ]
  },
  {
   "cell_type": "code",
   "execution_count": 5,
   "metadata": {},
   "outputs": [
    {
     "data": {
      "text/plain": [
       "-59"
      ]
     },
     "execution_count": 5,
     "metadata": {},
     "output_type": "execute_result"
    }
   ],
   "source": [
    "sol.minFallingPathSum([[-19,57],[-40,-5]])"
   ]
  },
  {
   "cell_type": "code",
   "execution_count": 6,
   "metadata": {},
   "outputs": [
    {
     "data": {
      "text/plain": [
       "13"
      ]
     },
     "execution_count": 6,
     "metadata": {},
     "output_type": "execute_result"
    }
   ],
   "source": [
    "sol.minFallingPathSum([[2,1,3],[6,5,4],[7,8,9]])"
   ]
  },
  {
   "cell_type": "code",
   "execution_count": 7,
   "metadata": {},
   "outputs": [
    {
     "data": {
      "text/plain": [
       "400"
      ]
     },
     "execution_count": 7,
     "metadata": {},
     "output_type": "execute_result"
    }
   ],
   "source": [
    "sol.minFallingPathSum([[100, 100, 100, 100],[100, 100, 100, 100],[100, 100, 100, 100], [100, 100, 100, 100]])"
   ]
  },
  {
   "cell_type": "code",
   "execution_count": null,
   "metadata": {},
   "outputs": [],
   "source": []
  }
 ],
 "metadata": {
  "kernelspec": {
   "display_name": "Python 3",
   "language": "python",
   "name": "python3"
  },
  "language_info": {
   "codemirror_mode": {
    "name": "ipython",
    "version": 3
   },
   "file_extension": ".py",
   "mimetype": "text/x-python",
   "name": "python",
   "nbconvert_exporter": "python",
   "pygments_lexer": "ipython3",
   "version": "3.10.13"
  }
 },
 "nbformat": 4,
 "nbformat_minor": 2
}
