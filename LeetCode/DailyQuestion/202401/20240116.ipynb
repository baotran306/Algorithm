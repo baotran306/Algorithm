{
 "cells": [
  {
   "cell_type": "markdown",
   "metadata": {},
   "source": [
    "### [380. Insert Delete GetRandom O(1)](https://leetcode.com/problems/insert-delete-getrandom-o1/)\n",
    "Implement the RandomizedSet class:\n",
    "\n",
    "RandomizedSet() Initializes the RandomizedSet object.\n",
    "bool insert(int val) Inserts an item val into the set if not present. Returns true if the item was not present, false otherwise.\n",
    "bool remove(int val) Removes an item val from the set if present. Returns true if the item was present, false otherwise.\n",
    "int getRandom() Returns a random element from the current set of elements (it's guaranteed that at least one element exists when this method is called). Each element must have the same probability of being returned.\n",
    "You must implement the functions of the class such that each function works in average O(1) time complexity.\n",
    "\n",
    " \n",
    "\n",
    "Example 1:\n",
    "\n",
    "Input\n",
    "[\"RandomizedSet\", \"insert\", \"remove\", \"insert\", \"getRandom\", \"remove\", \"insert\", \"getRandom\"]\n",
    "[[], [1], [2], [2], [], [1], [2], []]\n",
    "Output\n",
    "[null, true, false, true, 2, true, false, 2]\n",
    "\n",
    "Explanation\n",
    "RandomizedSet randomizedSet = new RandomizedSet();\n",
    "randomizedSet.insert(1); // Inserts 1 to the set. Returns true as 1 was inserted successfully.\n",
    "randomizedSet.remove(2); // Returns false as 2 does not exist in the set.\n",
    "randomizedSet.insert(2); // Inserts 2 to the set, returns true. Set now contains [1,2].\n",
    "randomizedSet.getRandom(); // getRandom() should return either 1 or 2 randomly.\n",
    "randomizedSet.remove(1); // Removes 1 from the set, returns true. Set now contains [2].\n",
    "randomizedSet.insert(2); // 2 was already in the set, so return false.\n",
    "randomizedSet.getRandom(); // Since 2 is the only number in the set, getRandom() will always return 2.\n",
    " \n",
    "\n",
    "Constraints:\n",
    "\n",
    "- -231 <= val <= 231 - 1\n",
    "- At most 2 * 105 calls will be made to insert, remove, and getRandom.\n",
    "- There will be at least one element in the data structure when getRandom is called."
   ]
  },
  {
   "cell_type": "code",
   "execution_count": 2,
   "metadata": {},
   "outputs": [],
   "source": [
    "import random\n",
    "class RandomizedSet:\n",
    "\n",
    "    def __init__(self):\n",
    "        self._dict_idx = {}\n",
    "        self._set_val = []\n",
    "        \n",
    "    def is_element_in_set(self, x):\n",
    "        return x in self._dict_idx\n",
    "    \n",
    "    def insert(self, val: int) -> bool:\n",
    "        if self.is_element_in_set(val):\n",
    "            return False\n",
    "        self._set_val.append(val)\n",
    "        self._dict_idx[val] = len(self._set_val) - 1\n",
    "        return True\n",
    "\n",
    "    def remove(self, val: int) -> bool:\n",
    "        if not self.is_element_in_set(val):\n",
    "            return False\n",
    "        index = self._dict_idx[val]\n",
    "        # swap current index to the end of list to pop with O(1)\n",
    "        self._set_val[-1], self._set_val[index] = self._set_val[index], self._set_val[-1]\n",
    "        self._dict_idx[self._set_val[index]] = index\n",
    "        # delete val and dict\n",
    "        self._set_val.pop()\n",
    "        del self._dict_idx[val]\n",
    "        return True\n",
    "\n",
    "    def getRandom(self) -> int:\n",
    "        # print(self._set_val)\n",
    "        return random.choice(self._set_val)"
   ]
  },
  {
   "cell_type": "code",
   "execution_count": 5,
   "metadata": {},
   "outputs": [
    {
     "name": "stdout",
     "output_type": "stream",
     "text": [
      "True\n",
      "False\n",
      "1\n",
      "False\n",
      "False\n",
      "True\n",
      "5\n",
      "False\n"
     ]
    }
   ],
   "source": [
    "# Your RandomizedSet object will be instantiated and called as such:\n",
    "obj = RandomizedSet()\n",
    "print(obj.insert(1))\n",
    "print(obj.remove(2))\n",
    "print(obj.getRandom())\n",
    "print(obj.insert(1))\n",
    "print(obj.remove(23))\n",
    "print(obj.insert(5))\n",
    "print(obj.getRandom())\n",
    "print(obj.remove(9))"
   ]
  },
  {
   "cell_type": "code",
   "execution_count": null,
   "metadata": {},
   "outputs": [],
   "source": []
  }
 ],
 "metadata": {
  "kernelspec": {
   "display_name": "Python 3",
   "language": "python",
   "name": "python3"
  },
  "language_info": {
   "codemirror_mode": {
    "name": "ipython",
    "version": 3
   },
   "file_extension": ".py",
   "mimetype": "text/x-python",
   "name": "python",
   "nbconvert_exporter": "python",
   "pygments_lexer": "ipython3",
   "version": "3.10.13"
  }
 },
 "nbformat": 4,
 "nbformat_minor": 2
}
