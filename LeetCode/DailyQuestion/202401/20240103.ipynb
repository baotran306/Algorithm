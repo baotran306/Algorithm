{
 "cells": [
  {
   "cell_type": "markdown",
   "metadata": {},
   "source": [
    "### 2125. Number of Laser Beams in a Bank\n",
    "Anti-theft security devices are activated inside a bank. You are given a 0-indexed binary string array bank representing the floor plan of the bank, which is an m x n 2D matrix. bank[i] represents the ith row, consisting of '0's and '1's. '0' means the cell is empty, while'1' means the cell has a security device.\n",
    "\n",
    "There is one laser beam between any two security devices if both conditions are met:\n",
    "\n",
    "The two devices are located on two different rows: r1 and r2, where r1 < r2.\n",
    "For each row i where r1 < i < r2, there are no security devices in the ith row.\n",
    "Laser beams are independent, i.e., one beam does not interfere nor join with another.\n",
    "\n",
    "Return the total number of laser beams in the bank.\n",
    "\n",
    " \n",
    "\n",
    "Example 1:\n",
    "\n",
    "\n",
    "Input: bank = [\"011001\",\"000000\",\"010100\",\"001000\"]\n",
    "Output: 8\n",
    "Explanation: Between each of the following device pairs, there is one beam. In total, there are 8 beams:\n",
    " * bank[0][1] -- bank[2][1]\n",
    " * bank[0][1] -- bank[2][3]\n",
    " * bank[0][2] -- bank[2][1]\n",
    " * bank[0][2] -- bank[2][3]\n",
    " * bank[0][5] -- bank[2][1]\n",
    " * bank[0][5] -- bank[2][3]\n",
    " * bank[2][1] -- bank[3][2]\n",
    " * bank[2][3] -- bank[3][2]\n",
    "Note that there is no beam between any device on the 0th row with any on the 3rd row.\n",
    "This is because the 2nd row contains security devices, which breaks the second condition.\n",
    "Example 2:\n",
    "\n",
    "\n",
    "Input: bank = [\"000\",\"111\",\"000\"]\n",
    "Output: 0\n",
    "Explanation: There does not exist two devices located on two different rows."
   ]
  },
  {
   "cell_type": "code",
   "execution_count": 1,
   "metadata": {},
   "outputs": [],
   "source": [
    "# Solution 1\n",
    "class Solution:\n",
    "    def numberOfBeams(self, bank: list[str]) -> int:\n",
    "        total_floor = len(bank)\n",
    "        laser_each_floor = []\n",
    "        total_laser_beams = 0\n",
    "        for floor in bank:\n",
    "            beams_cur_floor = 0\n",
    "            for cell in floor:\n",
    "                beams_cur_floor += int(cell)\n",
    "            laser_each_floor.append(beams_cur_floor)\n",
    "        \n",
    "        for cur_idx in range(total_floor):\n",
    "            for next_floor in range(cur_idx + 1, total_floor):\n",
    "                if laser_each_floor[next_floor] != 0:\n",
    "                    total_laser_beams += laser_each_floor[cur_idx] * laser_each_floor[next_floor]\n",
    "                    break\n",
    "\n",
    "        return total_laser_beams"
   ]
  },
  {
   "cell_type": "code",
   "execution_count": 2,
   "metadata": {},
   "outputs": [],
   "source": [
    "# Solution 2\n",
    "class Solution:\n",
    "    def numberOfBeams(self, bank: list[str]) -> int:\n",
    "        pre_floor_beams = 0\n",
    "        total_laser_beams = 0\n",
    "        for floor in bank:\n",
    "            cur_floor_beams = sum(int(cell) for cell in floor)\n",
    "            if cur_floor_beams == 0:\n",
    "                continue\n",
    "            \n",
    "            total_laser_beams += pre_floor_beams * cur_floor_beams\n",
    "            pre_floor_beams = cur_floor_beams\n",
    "\n",
    "        return total_laser_beams"
   ]
  },
  {
   "cell_type": "code",
   "execution_count": null,
   "metadata": {},
   "outputs": [],
   "source": []
  }
 ],
 "metadata": {
  "kernelspec": {
   "display_name": "Python 3",
   "language": "python",
   "name": "python3"
  },
  "language_info": {
   "codemirror_mode": {
    "name": "ipython",
    "version": 3
   },
   "file_extension": ".py",
   "mimetype": "text/x-python",
   "name": "python",
   "nbconvert_exporter": "python",
   "pygments_lexer": "ipython3",
   "version": "3.10.13"
  }
 },
 "nbformat": 4,
 "nbformat_minor": 2
}
