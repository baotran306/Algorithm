{
 "cells": [
  {
   "cell_type": "markdown",
   "metadata": {},
   "source": [
    "### 446. Arithmetic Slices II - Subsequence\n",
    "Given an integer array nums, return the number of all the arithmetic subsequences of nums.\n",
    "\n",
    "A sequence of numbers is called arithmetic if it consists of at least three elements and if the difference between any two consecutive elements is the same.\n",
    "\n",
    "For example, [1, 3, 5, 7, 9], [7, 7, 7, 7], and [3, -1, -5, -9] are arithmetic sequences.\n",
    "For example, [1, 1, 2, 5, 7] is not an arithmetic sequence.\n",
    "A subsequence of an array is a sequence that can be formed by removing some elements (possibly none) of the array.\n",
    "\n",
    "For example, [2,5,10] is a subsequence of [1,2,1,2,4,1,5,10].\n",
    "The test cases are generated so that the answer fits in 32-bit integer.\n",
    "\n",
    "Example 1:\n",
    "\n",
    "Input: nums = [2,4,6,8,10]\n",
    "Output: 7\n",
    "Explanation: All arithmetic subsequence slices are:\n",
    "[2,4,6]\n",
    "[4,6,8]\n",
    "[6,8,10]\n",
    "[2,4,6,8]\n",
    "[4,6,8,10]\n",
    "[2,4,6,8,10]\n",
    "[2,6,10]\n",
    "Example 2:\n",
    "\n",
    "Input: nums = [7,7,7,7,7]\n",
    "Output: 16\n",
    "Explanation: Any subsequence of this array is arithmetic.\n",
    " \n",
    "\n",
    "Constraints:\n",
    "\n",
    "- 1  <= nums.length <= 1000\n",
    "- -231 <= nums[i] <= 231 - 1"
   ]
  },
  {
   "cell_type": "code",
   "execution_count": 28,
   "metadata": {},
   "outputs": [],
   "source": [
    "# DP Tabelation Bottom-up\n",
    "class Solution:\n",
    "    def numberOfArithmeticSlices(self, nums: list[int]) -> int:\n",
    "        len_num = len(nums)\n",
    "        res = 0\n",
    "        # Create tabulation dp for n number\n",
    "        dp = [{} for _ in nums]\n",
    "        for i in range(1, len_num):\n",
    "            print(f'---- {i}')\n",
    "            for j in range(i):\n",
    "                cur_diff = nums[i] - nums[j]\n",
    "                dp[i][cur_diff] = dp[i].get(cur_diff, 0) + 1\n",
    "                # cur_diff in dp[j] means consists of at least three elements with difference of two elements is the same.\n",
    "                # two in current nums[i] - nums[j] and at least one appeared before in dp[j]\n",
    "                if cur_diff in dp[j]:\n",
    "                    # update dp and count \n",
    "                    print(i, j, dp[j], dp[j][cur_diff])\n",
    "                    dp[i][cur_diff] += dp[j][cur_diff]\n",
    "                    res += dp[j][cur_diff]\n",
    "            print(f'total: {res}')\n",
    "            print(f'dp cur {i}: {dp}')\n",
    "        print(dp)\n",
    "        return res"
   ]
  },
  {
   "cell_type": "code",
   "execution_count": 29,
   "metadata": {},
   "outputs": [
    {
     "name": "stdout",
     "output_type": "stream",
     "text": [
      "---- 1\n",
      "total: 0\n",
      "dp cur 1: [{}, {2: 1}, {}, {}, {}]\n",
      "---- 2\n",
      "2 1 {2: 1} 1\n",
      "total: 1\n",
      "dp cur 2: [{}, {2: 1}, {4: 1, 2: 2}, {}, {}]\n",
      "---- 3\n",
      "3 2 {4: 1, 2: 2} 2\n",
      "total: 3\n",
      "dp cur 3: [{}, {2: 1}, {4: 1, 2: 2}, {6: 1, 4: 1, 2: 3}, {}]\n",
      "---- 4\n",
      "4 2 {4: 1, 2: 2} 1\n",
      "4 3 {6: 1, 4: 1, 2: 3} 3\n",
      "total: 7\n",
      "dp cur 4: [{}, {2: 1}, {4: 1, 2: 2}, {6: 1, 4: 1, 2: 3}, {8: 1, 6: 1, 4: 2, 2: 4}]\n",
      "[{}, {2: 1}, {4: 1, 2: 2}, {6: 1, 4: 1, 2: 3}, {8: 1, 6: 1, 4: 2, 2: 4}]\n",
      "7\n"
     ]
    }
   ],
   "source": [
    "sol = Solution()\n",
    "print(sol.numberOfArithmeticSlices([2,4,6,8,10]))"
   ]
  },
  {
   "cell_type": "code",
   "execution_count": 30,
   "metadata": {},
   "outputs": [
    {
     "name": "stdout",
     "output_type": "stream",
     "text": [
      "---- 1\n",
      "total: 0\n",
      "dp cur 1: [{}, {0: 1}, {}, {}, {}]\n",
      "---- 2\n",
      "2 1 {0: 1} 1\n",
      "total: 1\n",
      "dp cur 2: [{}, {0: 1}, {0: 3}, {}, {}]\n",
      "---- 3\n",
      "3 1 {0: 1} 1\n",
      "3 2 {0: 3} 3\n",
      "total: 5\n",
      "dp cur 3: [{}, {0: 1}, {0: 3}, {0: 7}, {}]\n",
      "---- 4\n",
      "4 1 {0: 1} 1\n",
      "4 2 {0: 3} 3\n",
      "4 3 {0: 7} 7\n",
      "total: 16\n",
      "dp cur 4: [{}, {0: 1}, {0: 3}, {0: 7}, {0: 15}]\n",
      "[{}, {0: 1}, {0: 3}, {0: 7}, {0: 15}]\n",
      "16\n"
     ]
    }
   ],
   "source": [
    "print(sol.numberOfArithmeticSlices([7, 7, 7, 7, 7]))"
   ]
  },
  {
   "cell_type": "code",
   "execution_count": null,
   "metadata": {},
   "outputs": [],
   "source": []
  }
 ],
 "metadata": {
  "kernelspec": {
   "display_name": "Python 3",
   "language": "python",
   "name": "python3"
  },
  "language_info": {
   "codemirror_mode": {
    "name": "ipython",
    "version": 3
   },
   "file_extension": ".py",
   "mimetype": "text/x-python",
   "name": "python",
   "nbconvert_exporter": "python",
   "pygments_lexer": "ipython3",
   "version": "3.10.13"
  }
 },
 "nbformat": 4,
 "nbformat_minor": 2
}
