{
 "cells": [
  {
   "cell_type": "markdown",
   "metadata": {},
   "source": [
    "### [1239. Maximum Length of a Concatenated String with Unique Characters](https://leetcode.com/problems/maximum-length-of-a-concatenated-string-with-unique-characters)\n",
    "\n",
    "You are given an array of strings arr. A string s is formed by the concatenation of a subsequence of arr that has unique characters.\n",
    "\n",
    "Return the maximum possible length of s.\n",
    "\n",
    "A subsequence is an array that can be derived from another array by deleting some or no elements without changing the order of the remaining elements.\n",
    "\n",
    " \n",
    "\n",
    "Example 1:\n",
    "\n",
    "Input: arr = [\"un\",\"iq\",\"ue\"]\n",
    "Output: 4\n",
    "Explanation: All the valid concatenations are:\n",
    "- \"\"\n",
    "- \"un\"\n",
    "- \"iq\"\n",
    "- \"ue\"\n",
    "- \"uniq\" (\"un\" + \"iq\")\n",
    "- \"ique\" (\"iq\" + \"ue\")\n",
    "Maximum length is 4.\n",
    "Example 2:\n",
    "\n",
    "Input: arr = [\"cha\",\"r\",\"act\",\"ers\"]\n",
    "Output: 6\n",
    "Explanation: Possible longest valid concatenations are \"chaers\" (\"cha\" + \"ers\") and \"acters\" (\"act\" + \"ers\").\n",
    "Example 3:\n",
    "\n",
    "Input: arr = [\"abcdefghijklmnopqrstuvwxyz\"]\n",
    "Output: 26\n",
    "Explanation: The only string in arr has all 26 characters.\n",
    " \n",
    "\n",
    "Constraints:\n",
    "\n",
    "- 1 <= arr.length <= 16\n",
    "- 1 <= arr[i].length <= 26\n",
    "- arr[i] contains only lowercase English letters."
   ]
  },
  {
   "cell_type": "markdown",
   "metadata": {},
   "source": []
  },
  {
   "cell_type": "code",
   "execution_count": 1,
   "metadata": {},
   "outputs": [],
   "source": [
    "from typing import List\n",
    "class Solution:\n",
    "    def max_length(self, arr: List[str]) -> int:\n",
    "        def back_tracking(start, cur):\n",
    "            max_length = len(cur)\n",
    "            for i in range(start, len(arr)):\n",
    "                if len(cur + arr[i]) == len(set(cur + arr[i])):\n",
    "                    max_length = max(max_length, back_tracking(start + 1, cur + arr[i]))\n",
    "\n",
    "            return max_length\n",
    "        \n",
    "        return back_tracking(0, \"\")"
   ]
  },
  {
   "cell_type": "code",
   "execution_count": 2,
   "metadata": {},
   "outputs": [],
   "source": [
    "list_test = [\n",
    "    [\"un\",\"iq\",\"ue\"],\n",
    "    [\"cha\",\"r\",\"act\",\"ers\"],\n",
    "    [\"ab\", \"ab\"],\n",
    "    [\"aa\", \"bbb\"],\n",
    "    [\"abcdefghijklmnopqrstuvwxyz\"]\n",
    "]"
   ]
  },
  {
   "cell_type": "code",
   "execution_count": 3,
   "metadata": {},
   "outputs": [
    {
     "name": "stdout",
     "output_type": "stream",
     "text": [
      "========================================\n",
      "Current test: ['un', 'iq', 'ue']\n",
      "4\n",
      "========================================\n",
      "Current test: ['cha', 'r', 'act', 'ers']\n",
      "6\n",
      "========================================\n",
      "Current test: ['ab', 'ab']\n",
      "2\n",
      "========================================\n",
      "Current test: ['aa', 'bbb']\n",
      "0\n",
      "========================================\n",
      "Current test: ['abcdefghijklmnopqrstuvwxyz']\n",
      "26\n"
     ]
    }
   ],
   "source": [
    "sol = Solution()\n",
    "for test in list_test:\n",
    "    print(\"==\" * 20)\n",
    "    print(f\"Current test: {test}\")\n",
    "    print(sol.max_length(test))"
   ]
  },
  {
   "cell_type": "code",
   "execution_count": null,
   "metadata": {},
   "outputs": [],
   "source": []
  }
 ],
 "metadata": {
  "kernelspec": {
   "display_name": "Python 3",
   "language": "python",
   "name": "python3"
  },
  "language_info": {
   "codemirror_mode": {
    "name": "ipython",
    "version": 3
   },
   "file_extension": ".py",
   "mimetype": "text/x-python",
   "name": "python",
   "nbconvert_exporter": "python",
   "pygments_lexer": "ipython3",
   "version": "3.10.13"
  }
 },
 "nbformat": 4,
 "nbformat_minor": 2
}
