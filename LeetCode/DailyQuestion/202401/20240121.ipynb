{
 "cells": [
  {
   "cell_type": "markdown",
   "metadata": {},
   "source": [
    "### [198. House Robber](https://leetcode.com/problems/house-robber)\n",
    "\n",
    "You are a professional robber planning to rob houses along a street. Each house has a certain amount of money stashed, the only constraint stopping you from robbing each of them is that adjacent houses have security systems connected and it will automatically contact the police if two adjacent houses were broken into on the same night.\n",
    "\n",
    "Given an integer array nums representing the amount of money of each house, return the maximum amount of money you can rob tonight without alerting the police.\n",
    "\n",
    " \n",
    "\n",
    "Example 1:\n",
    "\n",
    "Input: nums = [1,2,3,1]\\\n",
    "Output: 4\\\n",
    "Explanation: Rob house 1 (money = 1) and then rob house 3 (money = 3).\\\n",
    "Total amount you can rob = 1 + 3 = 4.\\\n",
    "Example 2:\n",
    "\n",
    "Input: nums = [2,7,9,3,1]\\\n",
    "Output: 12\\\n",
    "Explanation: Rob house 1 (money = 2), rob house 3 (money = 9) and rob house 5 (money = 1).\\\n",
    "Total amount you can rob = 2 + 9 + 1 = 12.\\\n",
    " \n",
    "\n",
    "Constraints:\n",
    "\n",
    "- 1 <= nums.length <= 100\n",
    "- 0 <= nums[i] <= 400"
   ]
  },
  {
   "cell_type": "code",
   "execution_count": 5,
   "metadata": {},
   "outputs": [],
   "source": [
    "from typing import List\n",
    "class Solution():\n",
    "    def rob_sol_naives(self, nums: List[int]) -> int:\n",
    "        len_num = len(nums)\n",
    "        if len_num < 2:\n",
    "            return max(nums[-1], nums[0])\n",
    "\n",
    "        for i in range(2, len_num):\n",
    "            nums[i] += max(nums[0: i - 1])\n",
    "\n",
    "        return max(nums)\n",
    "    \n",
    "    # DP\n",
    "    def rol_sol_dp(self, nums: List[int]) -> int:\n",
    "        len_num = len(nums)\n",
    "        if len_num == 1:\n",
    "            return nums[0]\n",
    "        \n",
    "        dp = [0] * (len_num + 1)\n",
    "        dp[1] = nums[0]\n",
    "\n",
    "        for i in range(1, len_num):\n",
    "            dp[i+1] = max(dp[i-1] + nums[i], dp[i])\n",
    "\n",
    "        return dp[len_num]\n",
    "    \n",
    "    def rol_sol(self, nums: List[int]) -> int:\n",
    "        len_num = len(nums)\n",
    "        # create two variable to store amount of robbery and no robbery at last house\n",
    "        no_rob = rob = 0\n",
    "\n",
    "        for amount in nums:\n",
    "            # new_rob store total amount if you rob in current house.\n",
    "            # mean that previous house you can rob.\n",
    "            new_rob = no_rob + amount\n",
    "            new_no_rob = max(no_rob, rob)\n",
    "            rob, no_rob = new_rob, new_no_rob\n",
    "\n",
    "        return max(rob, no_rob)"
   ]
  },
  {
   "cell_type": "code",
   "execution_count": 7,
   "metadata": {},
   "outputs": [
    {
     "name": "stdout",
     "output_type": "stream",
     "text": [
      "========================================\n",
      "Curent test: [2, 1, 1, 2]\n",
      "Solution DP: 4\n",
      "Solution use: 4\n",
      "Solution Naives: 4\n",
      "========================================\n",
      "Curent test: [1, 5, 3, 2, 9]\n",
      "Solution DP: 14\n",
      "Solution use: 14\n",
      "Solution Naives: 14\n",
      "========================================\n",
      "Curent test: [2, 7, 9, 3, 1]\n",
      "Solution DP: 12\n",
      "Solution use: 12\n",
      "Solution Naives: 12\n",
      "========================================\n",
      "Curent test: [1, 2, 3, 1]\n",
      "Solution DP: 4\n",
      "Solution use: 4\n",
      "Solution Naives: 4\n"
     ]
    }
   ],
   "source": [
    "sol = Solution()\n",
    "ls_test = [\n",
    "    [2,1,1,2], \n",
    "    [1, 5, 3, 2, 9], \n",
    "    [2, 7, 9, 3, 1],\n",
    "    [1, 2, 3, 1]\n",
    "]\n",
    "for test in ls_test:\n",
    "    print(\"==\" * 20)\n",
    "    print(f'Curent test: {test}')\n",
    "    print(f\"Solution DP: {sol.rol_sol_dp(test)}\")\n",
    "    print(f\"Solution use: {sol.rol_sol(test)}\")\n",
    "    print(f\"Solution Naives: {sol.rob_sol_naives(test)}\")"
   ]
  },
  {
   "cell_type": "code",
   "execution_count": null,
   "metadata": {},
   "outputs": [],
   "source": []
  }
 ],
 "metadata": {
  "kernelspec": {
   "display_name": "Python 3",
   "language": "python",
   "name": "python3"
  },
  "language_info": {
   "codemirror_mode": {
    "name": "ipython",
    "version": 3
   },
   "file_extension": ".py",
   "mimetype": "text/x-python",
   "name": "python",
   "nbconvert_exporter": "python",
   "pygments_lexer": "ipython3",
   "version": "3.10.13"
  }
 },
 "nbformat": 4,
 "nbformat_minor": 2
}
