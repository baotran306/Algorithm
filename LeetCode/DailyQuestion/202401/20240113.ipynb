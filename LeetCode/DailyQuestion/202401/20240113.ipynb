{
 "cells": [
  {
   "cell_type": "markdown",
   "metadata": {},
   "source": [
    "### [1347. Minimum Number of Steps to Make Two Strings Anagram](https://leetcode.com/problems/minimum-number-of-steps-to-make-two-strings-anagram/)\n",
    "\n",
    "You are given two strings of the same length s and t. In one step you can choose any character of t and replace it with another character.\n",
    "\n",
    "Return the minimum number of steps to make t an anagram of s.\n",
    "\n",
    "An Anagram of a string is a string that contains the same characters with a different (or the same) ordering.\n",
    "\n",
    " \n",
    "\n",
    "Example 1:\n",
    "\n",
    "Input: s = \"bab\", t = \"aba\"\n",
    "Output: 1\n",
    "Explanation: Replace the first 'a' in t with b, t = \"bba\" which is anagram of s.\n",
    "Example 2:\n",
    "\n",
    "Input: s = \"leetcode\", t = \"practice\"\n",
    "Output: 5\n",
    "Explanation: Replace 'p', 'r', 'a', 'i' and 'c' from t with proper characters to make t anagram of s.\n",
    "Example 3:\n",
    "\n",
    "Input: s = \"anagram\", t = \"mangaar\"\n",
    "Output: 0\n",
    "Explanation: \"anagram\" and \"mangaar\" are anagrams. \n",
    " \n",
    "\n",
    "Constraints:\n",
    "\n",
    "- 1 <= s.length <= 5 * 104\n",
    "- s.length == t.length\n",
    "- s and t consist of lowercase English letters only."
   ]
  },
  {
   "cell_type": "code",
   "execution_count": 2,
   "metadata": {},
   "outputs": [],
   "source": [
    "class Solution:\n",
    "    def minSteps(self, s: str, t: str) -> int:\n",
    "        length = len(s)\n",
    "        dict_freq_s = {}\n",
    "        dict_freq_t = {}\n",
    "        for i in range(length):\n",
    "            dict_freq_s[s[i]] = dict_freq_s.get(s[i], 0) + 1\n",
    "            dict_freq_t[t[i]] = dict_freq_t.get(t[i], 0) + 1\n",
    "            \n",
    "        \n",
    "        for i in range(26):\n",
    "            dict_freq_s[chr(i+97)] = max(dict_freq_s.get(chr(i+97), 0) - dict_freq_t.get(chr(i+97), 0), 0)\n",
    "            \n",
    "        \n",
    "        return sum(dict_freq_s.values())"
   ]
  },
  {
   "cell_type": "code",
   "execution_count": 3,
   "metadata": {},
   "outputs": [],
   "source": [
    "sol = Solution()"
   ]
  },
  {
   "cell_type": "code",
   "execution_count": 4,
   "metadata": {},
   "outputs": [
    {
     "name": "stdout",
     "output_type": "stream",
     "text": [
      "0\n"
     ]
    }
   ],
   "source": [
    "print(sol.minSteps(\"abc\", \"bca\"))"
   ]
  },
  {
   "cell_type": "code",
   "execution_count": 5,
   "metadata": {},
   "outputs": [
    {
     "name": "stdout",
     "output_type": "stream",
     "text": [
      "3\n"
     ]
    }
   ],
   "source": [
    "print(sol.minSteps(\"welcomea\", \"comehome\"))"
   ]
  },
  {
   "cell_type": "code",
   "execution_count": 6,
   "metadata": {},
   "outputs": [
    {
     "name": "stdout",
     "output_type": "stream",
     "text": [
      "8\n"
     ]
    }
   ],
   "source": [
    "print(sol.minSteps(\"levicowill\", \"murykmikal\"))"
   ]
  },
  {
   "cell_type": "code",
   "execution_count": null,
   "metadata": {},
   "outputs": [],
   "source": []
  }
 ],
 "metadata": {
  "kernelspec": {
   "display_name": "Python 3",
   "language": "python",
   "name": "python3"
  },
  "language_info": {
   "codemirror_mode": {
    "name": "ipython",
    "version": 3
   },
   "file_extension": ".py",
   "mimetype": "text/x-python",
   "name": "python",
   "nbconvert_exporter": "python",
   "pygments_lexer": "ipython3",
   "version": "3.10.13"
  }
 },
 "nbformat": 4,
 "nbformat_minor": 2
}
