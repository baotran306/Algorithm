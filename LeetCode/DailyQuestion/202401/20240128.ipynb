{
 "cells": [
  {
   "cell_type": "markdown",
   "metadata": {},
   "source": [
    "### [1074. Number of Submatrices That Sum to Target](https://leetcode.com/problems/number-of-submatrices-that-sum-to-target)\n",
    "Given a matrix and a target, return the number of non-empty submatrices that sum to target.\n",
    "\n",
    "A submatrix x1, y1, x2, y2 is the set of all cells matrix[x][y] with x1 <= x <= x2 and y1 <= y <= y2.\n",
    "\n",
    "Two submatrices (x1, y1, x2, y2) and (x1', y1', x2', y2') are different if they have some coordinate that is different: for example, if x1 != x1'.\n",
    "\n",
    " \n",
    "\n",
    "Example 1:\n",
    "\n",
    "\n",
    "Input: matrix = [[0,1,0],[1,1,1],[0,1,0]], target = 0\\\n",
    "Output: 4\\\n",
    "Explanation: The four 1x1 submatrices that only contain 0.\\\n",
    "Example 2:\n",
    "\n",
    "Input: matrix = [[1,-1],[-1,1]], target = 0\\\n",
    "Output: 5\\\n",
    "Explanation: The two 1x2 submatrices, plus the two 2x1 submatrices, plus the 2x2 submatrix.\\\n",
    "Example 3:\n",
    "\n",
    "Input: matrix = [[904]], target = 0\n",
    "Output: 0\n",
    " \n",
    "\n",
    "Constraints:\n",
    "\n",
    "- 1 <= matrix.length <= 100\n",
    "- 1 <= matrix[0].length <= 100\n",
    "- -1000 <= matrix[i] <= 1000\n",
    "- -10^8 <= target <= 10^8"
   ]
  },
  {
   "cell_type": "code",
   "execution_count": 37,
   "metadata": {},
   "outputs": [],
   "source": [
    "from typing import List\n",
    "class Solution:\n",
    "    def num_submatrix_sum_target(self, matrix: List[List[int]], target: int) -> int:\n",
    "        max_row = len(matrix)\n",
    "        max_col = len(matrix[0])\n",
    "        res = 0 # count number submatrix equal target\n",
    "\n",
    "        dp_prefix_sum = [[0] * max_col for _ in range(max_row)]\n",
    "\n",
    "        for r in range(max_row):\n",
    "            for c in range(max_col):\n",
    "                top = dp_prefix_sum[r-1][c] if r > 0 else 0\n",
    "                left = dp_prefix_sum[r][c-1] if c > 0 else 0\n",
    "                top_left = dp_prefix_sum[r-1][c-1] if min(r, c) > 0 else 0\n",
    "                dp_prefix_sum[r][c] = matrix[r][c] + top + left - top_left\n",
    "\n",
    "        # print(dp_prefix_sum)\n",
    "\n",
    "        # check if submatrix create from two point top_left(r1, c1), bot_right(r2, c2) is equal target\n",
    "        for r1 in range(max_row):\n",
    "            for r2 in range(r1, max_row):\n",
    "                for c1 in range(max_col):\n",
    "                    for c2 in range(c1, max_col):\n",
    "                        top = dp_prefix_sum[r1-1][c2] if r1 > 0 else 0\n",
    "                        left = dp_prefix_sum[r2][c1-1] if c1 > 0 else 0\n",
    "                        top_left = dp_prefix_sum[r1-1][c1-1] if min(r1, c1) > 0 else 0\n",
    "                        # print(dp_prefix_sum[r2][c2],  top,  left,  top_left)\n",
    "                        cur_total_submatrix = dp_prefix_sum[r2][c2] - top - left + top_left\n",
    "                        if cur_total_submatrix == target:\n",
    "                            res += 1\n",
    "\n",
    "        return res\n",
    "\n",
    "    def num_submatrix_sum_target_op(self, matrix: List[List[int]], target: int) -> int:\n",
    "        from collections import defaultdict \n",
    "        max_row = len(matrix)\n",
    "        max_col = len(matrix[0])\n",
    "        res = 0 # count number submatrix equal target\n",
    "\n",
    "        dp_prefix_sum = [[0] * max_col for _ in range(max_row)]\n",
    "\n",
    "        for r in range(max_row):\n",
    "            for c in range(max_col):\n",
    "                top = dp_prefix_sum[r-1][c] if r > 0 else 0\n",
    "                left = dp_prefix_sum[r][c-1] if c > 0 else 0\n",
    "                top_left = dp_prefix_sum[r-1][c-1] if min(r, c) > 0 else 0\n",
    "                dp_prefix_sum[r][c] = matrix[r][c] + top + left - top_left\n",
    "\n",
    "        # print(dp_prefix_sum)\n",
    "\n",
    "        # check if submatrix create from two point top_left(r1, c1), bot_right(r2, c2) is equal target\n",
    "        for r1 in range(max_row):\n",
    "            for r2 in range(r1, max_row):\n",
    "                count_prefix = defaultdict(int)\n",
    "                count_prefix[0] = 1 # diff = 0 then add 1 to res\n",
    "                for c in range(max_col):\n",
    "                    if r1 > 0:\n",
    "                        top = dp_prefix_sum[r1-1][c]\n",
    "                    else:\n",
    "                        top = 0\n",
    "                    cur_sum = dp_prefix_sum[r2][c] - top\n",
    "                    diff = cur_sum - target\n",
    "                    res += count_prefix[diff]\n",
    "                    count_prefix[cur_sum] += 1\n",
    "\n",
    "        return res"
   ]
  },
  {
   "cell_type": "code",
   "execution_count": 38,
   "metadata": {},
   "outputs": [],
   "source": [
    "sol = Solution()"
   ]
  },
  {
   "cell_type": "code",
   "execution_count": 41,
   "metadata": {},
   "outputs": [
    {
     "name": "stdout",
     "output_type": "stream",
     "text": [
      "------- Test 1 -------- \n",
      "    + Sol 1: 4\n",
      "    + Sol Optimal: 4\n",
      "------- Test 2 -------- \n",
      "    + Sol 1: 5\n",
      "    + Sol Optimal: 5\n",
      "------- Test 3 -------- \n",
      "    + Sol 1: 0\n",
      "    + Sol Optimal: 0\n"
     ]
    }
   ],
   "source": [
    "ls_test = [\n",
    "    dict(matrix = [[0,1,0],[1,1,1],[0,1,0]], target = 0),\n",
    "    dict(matrix = [[1,-1],[-1,1]], target = 0),\n",
    "    dict(matrix = [[904]], target = 0)\n",
    "]\n",
    "for idx, test in enumerate(ls_test):\n",
    "    print(f'------- Test {idx + 1} -------- ')\n",
    "    print(f'    + Sol 1: {sol.num_submatrix_sum_target(test[\"matrix\"], test[\"target\"])}')\n",
    "    print(f'    + Sol Optimal: {sol.num_submatrix_sum_target_op(test[\"matrix\"], test[\"target\"])}')"
   ]
  },
  {
   "cell_type": "code",
   "execution_count": null,
   "metadata": {},
   "outputs": [],
   "source": []
  }
 ],
 "metadata": {
  "kernelspec": {
   "display_name": "Python 3",
   "language": "python",
   "name": "python3"
  },
  "language_info": {
   "codemirror_mode": {
    "name": "ipython",
    "version": 3
   },
   "file_extension": ".py",
   "mimetype": "text/x-python",
   "name": "python",
   "nbconvert_exporter": "python",
   "pygments_lexer": "ipython3",
   "version": "3.10.13"
  }
 },
 "nbformat": 4,
 "nbformat_minor": 2
}
