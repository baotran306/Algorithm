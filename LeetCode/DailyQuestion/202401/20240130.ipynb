{
 "cells": [
  {
   "cell_type": "markdown",
   "metadata": {},
   "source": [
    "### 150. Evaluate Reverse Polish Notation\n",
    "\n",
    "You are given an array of strings tokens that represents an arithmetic expression in a Reverse Polish Notation.\n",
    "\n",
    "Evaluate the expression. Return an integer that represents the value of the expression.\n",
    "\n",
    "Note that:\n",
    "\n",
    "The valid operators are '+', '-', '*', and '/'.\\\n",
    "Each operand may be an integer or another expression.\\\n",
    "The division between two integers always truncates toward zero.\\\n",
    "There will not be any division by zero.\\\n",
    "The input represents a valid arithmetic expression in a reverse polish notation.\\\n",
    "The answer and all the intermediate calculations can be represented in a 32-bit integer.\n",
    " \n",
    "\n",
    "Example 1:\n",
    "\n",
    "Input: tokens = [\"2\",\"1\",\"+\",\"3\",\"*\"]\\\n",
    "Output: 9\\\n",
    "Explanation: ((2 + 1) * 3) = 9\\\n",
    "Example 2:\n",
    "\n",
    "Input: tokens = [\"4\",\"13\",\"5\",\"/\",\"+\"]\\\n",
    "Output: 6\\\n",
    "Explanation: (4 + (13 / 5)) = 6\\\n",
    "Example 3:\n",
    "\n",
    "Input: tokens = [\"10\",\"6\",\"9\",\"3\",\"+\",\"-11\",\"*\",\"/\",\"*\",\"17\",\"+\",\"5\",\"+\"]\\\n",
    "Output: 22\\\n",
    "Explanation: ((10 * (6 / ((9 + 3) * -11))) + 17) + 5\\\n",
    "= ((10 * (6 / (12 * -11))) + 17) + 5\\\n",
    "= ((10 * (6 / -132)) + 17) + 5\\\n",
    "= ((10 * 0) + 17) + 5\\\n",
    "= (0 + 17) + 5\\\n",
    "= 17 + 5\\\n",
    "= 22\n",
    " \n",
    "\n",
    "Constraints:\n",
    "\n",
    "- 1 <= tokens.length <= 104\n",
    "- tokens[i] is either an operator: \"+\", \"-\", \"*\", or \"/\", or an integer in the range [-200, 200]."
   ]
  },
  {
   "cell_type": "code",
   "execution_count": 1,
   "metadata": {},
   "outputs": [],
   "source": [
    "from typing import List\n",
    "class Solution:\n",
    "    def evalRPN(self, tokens: List[str]) -> int:\n",
    "        res = 0\n",
    "        set_operator = {'+', '-', '*', '/'}\n",
    "        stack = []\n",
    "        for val in tokens:\n",
    "            if val not in set_operator:\n",
    "                stack.append(int(val))\n",
    "            else:\n",
    "                num_2 = stack.pop()\n",
    "                num_1 = stack.pop()\n",
    "                # print(num_1, num_2, val)\n",
    "                if val == '+':\n",
    "                    new_val = num_1 + num_2\n",
    "                elif val == '-':\n",
    "                    new_val = num_1 - num_2\n",
    "                elif val == '*':\n",
    "                    new_val = num_1 * num_2\n",
    "                else:\n",
    "                    new_val = int(num_1 / num_2)\n",
    "                stack.append(new_val)\n",
    "        return stack.pop()\n"
   ]
  },
  {
   "cell_type": "code",
   "execution_count": 2,
   "metadata": {},
   "outputs": [],
   "source": [
    "sol = Solution()"
   ]
  },
  {
   "cell_type": "code",
   "execution_count": 3,
   "metadata": {},
   "outputs": [
    {
     "name": "stdout",
     "output_type": "stream",
     "text": [
      "Ans : 9\n",
      "Ans : 6\n",
      "Ans : 22\n"
     ]
    }
   ],
   "source": [
    "ls_test = [\n",
    "    [\"2\",\"1\",\"+\",\"3\",\"*\"],\n",
    "    [\"4\",\"13\",\"5\",\"/\",\"+\"],\n",
    "    [\"10\",\"6\",\"9\",\"3\",\"+\",\"-11\",\"*\",\"/\",\"*\",\"17\",\"+\",\"5\",\"+\"]\n",
    "]\n",
    "\n",
    "for test in ls_test:\n",
    "    print(f\"Ans : {sol.evalRPN(test)}\")"
   ]
  },
  {
   "cell_type": "code",
   "execution_count": null,
   "metadata": {},
   "outputs": [],
   "source": []
  }
 ],
 "metadata": {
  "kernelspec": {
   "display_name": "Python 3",
   "language": "python",
   "name": "python3"
  },
  "language_info": {
   "codemirror_mode": {
    "name": "ipython",
    "version": 3
   },
   "file_extension": ".py",
   "mimetype": "text/x-python",
   "name": "python",
   "nbconvert_exporter": "python",
   "pygments_lexer": "ipython3",
   "version": "3.10.13"
  }
 },
 "nbformat": 4,
 "nbformat_minor": 2
}
