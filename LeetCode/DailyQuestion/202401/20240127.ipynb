{
 "cells": [
  {
   "cell_type": "markdown",
   "metadata": {},
   "source": [
    "### [629. K Inverse Pairs Array](https://leetcode.com/problems/k-inverse-pairs-array)\n",
    "\n",
    "For an integer array nums, an inverse pair is a pair of integers [i, j] where 0 <= i < j < nums.length and nums[i] > nums[j].\n",
    "\n",
    "Given two integers n and k, return the number of different arrays consist of numbers from 1 to n such that there are exactly k inverse pairs. Since the answer can be huge, return it modulo 109 + 7.\n",
    "\n",
    " \n",
    "\n",
    "Example 1:\n",
    "\n",
    "Input: n = 3, k = 0\n",
    "Output: 1\n",
    "Explanation: Only the array [1,2,3] which consists of numbers from 1 to 3 has exactly 0 inverse pairs.\n",
    "Example 2:\n",
    "\n",
    "Input: n = 3, k = 1\n",
    "Output: 2\n",
    "Explanation: The array [1,3,2] and [2,1,3] have exactly 1 inverse pair.\n",
    " \n",
    "\n",
    "Constraints:\n",
    "\n",
    "- 1 <= n <= 1000\n",
    "- 0 <= k <= 1000"
   ]
  },
  {
   "cell_type": "code",
   "execution_count": 2,
   "metadata": {},
   "outputs": [],
   "source": [
    "class Solution:\n",
    "    def __init__(self) -> None:\n",
    "        self.MOD = 10 ** 9 + 7\n",
    "    def k_inverse_pairs_brute_force(self, n: int, k: int) -> int:\n",
    "        cache_count_path = {} # Create hashmap (n, k) to save if calculated before, no need count again\n",
    "        def count_pair_reverse(n, k):\n",
    "            if k == 0: # Always have 1. In case array sorted ascending\n",
    "                return 1\n",
    "            if n == 0:\n",
    "                # Have one special case when count_path = 1.\n",
    "                # It is when both n, k = 0. then count_path = 1\n",
    "                # But it handled in case k = 0 before. So don't need care again here\n",
    "                return 0\n",
    "            if (n, k) in cache_count_path:\n",
    "                return cache_count_path[(n, k)]\n",
    "            \n",
    "            # Initial \n",
    "            cache_count_path[(n, k)] = 0\n",
    "            for i in range(n):\n",
    "                # print(n - 1, k - i)\n",
    "                cache_count_path[(n, k)] = (\n",
    "                    cache_count_path[(n, k)] % self.MOD +\n",
    "                    count_pair_reverse(n - 1, k - i) % self.MOD\n",
    "                ) % self.MOD\n",
    "            \n",
    "            return cache_count_path[(n, k)]\n",
    "        \n",
    "        return count_pair_reverse(n, k)\n"
   ]
  },
  {
   "cell_type": "code",
   "execution_count": 3,
   "metadata": {},
   "outputs": [],
   "source": [
    "sol = Solution()"
   ]
  },
  {
   "cell_type": "code",
   "execution_count": 4,
   "metadata": {},
   "outputs": [
    {
     "name": "stdout",
     "output_type": "stream",
     "text": [
      "--------------------\n",
      "1\n",
      "--------------------\n",
      "2\n",
      "--------------------\n",
      "9\n",
      "--------------------\n",
      "1\n",
      "--------------------\n",
      "1\n",
      "--------------------\n",
      "0\n"
     ]
    }
   ],
   "source": [
    "list_test = [\n",
    "    (3, 0),\n",
    "    (3, 1),\n",
    "    (5, 2),\n",
    "    (6, 0),\n",
    "    (2, 1),\n",
    "    (2, 2)\n",
    "]\n",
    "for test in list_test:\n",
    "    print(\"--\" * 10)\n",
    "    print(sol.k_inverse_pairs_brute_force(test[0], test[1]))"
   ]
  },
  {
   "cell_type": "code",
   "execution_count": 10,
   "metadata": {},
   "outputs": [
    {
     "name": "stdout",
     "output_type": "stream",
     "text": [
      "--------------------\n",
      "1\n",
      "--------------------\n",
      "2\n",
      "--------------------\n",
      "9\n",
      "--------------------\n",
      "1\n",
      "--------------------\n",
      "1\n",
      "--------------------\n",
      "0\n"
     ]
    }
   ],
   "source": [
    "# Optimal 1: Use DP Bottom up\n",
    "def k_inverse_pairs_dp(n: int, k: int):\n",
    "    MOD = 10**9 + 7\n",
    "    dp = [[0] * (k + 1) for _ in range(n + 1)]\n",
    "    dp[0][0] = 1\n",
    "\n",
    "    for cur_n in range(1, n + 1): # start by 1 because case 0, 0 have 1 we defined before\n",
    "        for cur_k in range(0, k + 1):\n",
    "            for remain_choice in range(cur_n):\n",
    "                if cur_k - remain_choice >= 0:\n",
    "                    dp[cur_n][cur_k] += dp[cur_n - 1][cur_k - remain_choice]\n",
    "                    dp[cur_n][cur_k] %= MOD\n",
    "\n",
    "    return dp[n][k]\n",
    "for test in list_test:\n",
    "    print(\"--\" * 10)\n",
    "    print(k_inverse_pairs_dp(test[0], test[1]))"
   ]
  },
  {
   "cell_type": "code",
   "execution_count": 12,
   "metadata": {},
   "outputs": [
    {
     "name": "stdout",
     "output_type": "stream",
     "text": [
      "--------------------\n",
      "1\n",
      "--------------------\n",
      "2\n",
      "--------------------\n",
      "9\n",
      "--------------------\n",
      "1\n",
      "--------------------\n",
      "1\n",
      "--------------------\n",
      "0\n"
     ]
    }
   ],
   "source": [
    "# Optimal 1: Ask we see aboe, accually we don't need all matrix dp to count current (n, k)\n",
    "# We just need count from previous n (n-1)\n",
    "# So we can optimal here. Just save previous and current n\n",
    "# Optimal 1: Use DP Bottom up\n",
    "def k_inverse_pairs_dp(n: int, k: int):\n",
    "    MOD = 10**9 + 7\n",
    "    prev_dp = [0] * (k + 1)\n",
    "    prev_dp[0] = 1\n",
    "\n",
    "    for cur_n in range(1, n + 1): # start by 1 because case 0, 0 have 1 we defined before\n",
    "        cur_dp = [0] * (k + 1)\n",
    "        for cur_k in range(0, k + 1):\n",
    "            for remain_choice in range(cur_n):\n",
    "                if cur_k - remain_choice >= 0:\n",
    "                    cur_dp[cur_k] += prev_dp[cur_k - remain_choice]\n",
    "                    cur_dp[cur_k] %= MOD\n",
    "        # Update cur_dp to previous to process next cur_n\n",
    "        prev_dp = cur_dp\n",
    "\n",
    "    return prev_dp[k]\n",
    "for test in list_test:\n",
    "    print(\"--\" * 10)\n",
    "    print(k_inverse_pairs_dp(test[0], test[1]))"
   ]
  },
  {
   "cell_type": "code",
   "execution_count": 13,
   "metadata": {},
   "outputs": [
    {
     "name": "stdout",
     "output_type": "stream",
     "text": [
      "--------------------\n",
      "1\n",
      "--------------------\n",
      "2\n",
      "--------------------\n",
      "9\n",
      "--------------------\n",
      "1\n",
      "--------------------\n",
      "1\n",
      "--------------------\n",
      "0\n"
     ]
    }
   ],
   "source": [
    "# Optimal 2: Use sliding\n",
    "def k_inverse_pairs_dp(n: int, k: int):\n",
    "    MOD = 10**9 + 7\n",
    "    prev_dp = [0] * (k + 1)\n",
    "    prev_dp[0] = 1\n",
    "\n",
    "    for cur_n in range(1, n + 1): # start by 1 because case 0, 0 have 1 we defined before\n",
    "        cur_dp = [0] * (k + 1)\n",
    "        total_pairs = 0\n",
    "        for cur_k in range(0, k + 1):\n",
    "            if cur_k >= cur_n: # We need to limit number of choice. for example case: (n, k) (4, 5).\n",
    "                # We just can get 4 choice.\n",
    "                total_pairs -= prev_dp[cur_k - cur_n]\n",
    "            total_pairs = (total_pairs + prev_dp[cur_k]) % MOD\n",
    "            cur_dp[cur_k] = total_pairs\n",
    "        # Update cur_dp to previous to process next cur_n\n",
    "        prev_dp = cur_dp\n",
    "\n",
    "    return prev_dp[k]\n",
    "for test in list_test:\n",
    "    print(\"--\" * 10)\n",
    "    print(k_inverse_pairs_dp(test[0], test[1]))"
   ]
  },
  {
   "cell_type": "code",
   "execution_count": null,
   "metadata": {},
   "outputs": [],
   "source": []
  }
 ],
 "metadata": {
  "kernelspec": {
   "display_name": "Python 3",
   "language": "python",
   "name": "python3"
  },
  "language_info": {
   "codemirror_mode": {
    "name": "ipython",
    "version": 3
   },
   "file_extension": ".py",
   "mimetype": "text/x-python",
   "name": "python",
   "nbconvert_exporter": "python",
   "pygments_lexer": "ipython3",
   "version": "3.10.13"
  }
 },
 "nbformat": 4,
 "nbformat_minor": 2
}
