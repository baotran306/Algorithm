{
 "cells": [
  {
   "cell_type": "markdown",
   "metadata": {},
   "source": [
    "### [1143. Longest Common Subsequence](https://leetcode.com/problems/longest-common-subsequence)\n",
    "Given two strings text1 and text2, return the length of their longest common subsequence. If there is no common subsequence, return 0.\n",
    "\n",
    "A subsequence of a string is a new string generated from the original string with some characters (can be none) deleted without changing the relative order of the remaining characters.\n",
    "\n",
    "For example, \"ace\" is a subsequence of \"abcde\".\n",
    "A common subsequence of two strings is a subsequence that is common to both strings.\n",
    "\n",
    " \n",
    "\n",
    "Example 1:\n",
    "\n",
    "Input: text1 = \"abcde\", text2 = \"ace\" \\\n",
    "Output: 3  \\\n",
    "Explanation: The longest common subsequence is \"ace\" and its length is 3.\\\n",
    "Example 2:\n",
    "\n",
    "Input: text1 = \"abc\", text2 = \"abc\"\\\n",
    "Output: 3\\\n",
    "Explanation: The longest common subsequence is \"abc\" and its length is 3.\\\n",
    "Example 3:\n",
    "\n",
    "Input: text1 = \"abc\", text2 = \"def\"\\\n",
    "Output: 0\\\n",
    "Explanation: There is no such common subsequence, so the result is 0.\n",
    " \n",
    "\n",
    "Constraints:\n",
    "\n",
    "- 1 <= text1.length, text2.length <= 1000\n",
    "- text1 and text2 consist of only lowercase English characters."
   ]
  },
  {
   "cell_type": "code",
   "execution_count": 13,
   "metadata": {},
   "outputs": [
    {
     "name": "stdout",
     "output_type": "stream",
     "text": [
      "[[0, 0, 0, 0, 0], [0, 0, 0, 0, 0], [0, 0, 0, 0, 0], [0, 0, 0, 0, 0], [0, 0, 0, 0, 0], [0, 0, 0, 0, 0], [0, 0, 0, 0, 0], [0, 0, 0, 0, 0]]\n",
      "[[0, 1, 1, 1, 0], [0, 1, 1, 1, 0], [1, 1, 2, 2, 0], [1, 1, 2, 2, 0], [1, 1, 2, 3, 0], [1, 1, 2, 3, 0], [1, 1, 2, 3, 0], [0, 0, 0, 0, 0]]\n",
      "0\n"
     ]
    }
   ],
   "source": [
    "text1 = \"abcdeff\"\n",
    "text2 = \"cace\"\n",
    "\n",
    "len_text1 = len(text1)\n",
    "len_text2 = len(text2)\n",
    "\n",
    "# dp = [[0 for x in text2] for y in text1]\n",
    "dp = [[0 for _ in range(len_text2 + 1)] for _ in range(len_text1 + 1)]\n",
    "print(dp)\n",
    "for i in range(0, len_text1):\n",
    "    for j in range(0, len_text2):\n",
    "        if text1[i] == text2[j]:\n",
    "            dp[i][j] = dp[i-1][j-1] + 1\n",
    "        else:\n",
    "            dp[i][j] = max(dp[i-1][j], dp[i][j-1])\n",
    "print(dp)\n",
    "print(dp[len_text1][len_text2])\n"
   ]
  },
  {
   "cell_type": "code",
   "execution_count": 14,
   "metadata": {},
   "outputs": [],
   "source": [
    "class Solution:\n",
    "    def longestCommonSubsequence(self, text1: str, text2: str) -> int:\n",
    "        len_text1 = len(text1)\n",
    "        len_text2 = len(text2)\n",
    "\n",
    "        # add more 1 element to avoid case out of range\n",
    "        dp = [[0 for _ in range(len_text2 + 1)] for _ in range(len_text1 + 1)]\n",
    "\n",
    "        for i in range(len_text1):\n",
    "            for j in range(len_text2):\n",
    "                # dp[i][j] = dp[i-1][j-1] + 1 when i match j\n",
    "                # dp[i][j] = max(dp[i][j-1], dp[i][j-1]) otherwise\n",
    "                # but when subtract maybe we can get index -1 when i or j = 0\n",
    "                # so write max subsequence of text1[0, i] and text2[0,j] to dp[i+1][j+1]\n",
    "                if text1[i] == text2[j]:\n",
    "                    dp[i+1][j+1] = dp[i][j] + 1\n",
    "                else:\n",
    "                    dp[i+1][j+1] = max(dp[i+1][j], dp[i][j+1])\n",
    "        # print(dp)\n",
    "        \n",
    "        return dp[len_text1][len_text2]\n",
    "        "
   ]
  },
  {
   "cell_type": "code",
   "execution_count": 15,
   "metadata": {},
   "outputs": [
    {
     "name": "stdout",
     "output_type": "stream",
     "text": [
      "3\n",
      "========================================\n",
      "0\n",
      "========================================\n",
      "2\n",
      "========================================\n",
      "9\n",
      "========================================\n",
      "2\n",
      "========================================\n"
     ]
    }
   ],
   "source": [
    "list_test = [\n",
    "    (\"abc\", \"alokokobodkdokc\"),\n",
    "    (\"a\", \"b\"),\n",
    "    (\"apodsiop\", \"qiwoxe\"),\n",
    "    (\"aaaaaaaaaaa\", \"baaaaaaaaa\"),\n",
    "    (\"paoapal\", \"qiwpoe\")\n",
    "]\n",
    "\n",
    "sol = Solution()\n",
    "\n",
    "for cur_test in list_test:\n",
    "    print(sol.longestCommonSubsequence(cur_test[0], cur_test[1]))\n",
    "    print(\"==\" * 20)"
   ]
  },
  {
   "cell_type": "code",
   "execution_count": null,
   "metadata": {},
   "outputs": [],
   "source": []
  }
 ],
 "metadata": {
  "kernelspec": {
   "display_name": "Python 3",
   "language": "python",
   "name": "python3"
  },
  "language_info": {
   "codemirror_mode": {
    "name": "ipython",
    "version": 3
   },
   "file_extension": ".py",
   "mimetype": "text/x-python",
   "name": "python",
   "nbconvert_exporter": "python",
   "pygments_lexer": "ipython3",
   "version": "3.10.13"
  }
 },
 "nbformat": 4,
 "nbformat_minor": 2
}
