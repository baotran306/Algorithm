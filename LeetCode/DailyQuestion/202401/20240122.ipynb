{
 "cells": [
  {
   "cell_type": "markdown",
   "metadata": {},
   "source": [
    "### [645. Set Mismatch](https://leetcode.com/problems/set-mismatch)\n",
    "You have a set of integers s, which originally contains all the numbers from 1 to n. Unfortunately, due to some error, one of the numbers in s got duplicated to another number in the set, which results in repetition of one number and loss of another number.\n",
    "\n",
    "You are given an integer array nums representing the data status of this set after the error.\n",
    "\n",
    "Find the number that occurs twice and the number that is missing and return them in the form of an array.\n",
    "\n",
    " \n",
    "\n",
    "Example 1:\n",
    "\n",
    "Input: nums = [1,2,2,4]\\\n",
    "Output: [2,3]\\\n",
    "Example 2:\n",
    "\n",
    "Input: nums = [1,1]\\\n",
    "Output: [1,2]\n",
    " \n",
    "\n",
    "Constraints:\n",
    "\n",
    "- 2 <= nums.length <= 104\n",
    "- 1 <= nums[i] <= 104"
   ]
  },
  {
   "cell_type": "code",
   "execution_count": 1,
   "metadata": {},
   "outputs": [],
   "source": [
    "from typing import List\n",
    "class Solution:\n",
    "    def findErrorNums(self, nums: List[int]) -> List[int]:\n",
    "        nums = sorted(nums)\n",
    "        len_num = len(nums)\n",
    "        cur_num = 1\n",
    "        is_insert = False\n",
    "\n",
    "        ls_res = []\n",
    "        ls_appeared = set()\n",
    "        for i in range(len_num):\n",
    "            if i != len_num - 1 and nums[i] == nums[i+1] and not is_insert:\n",
    "                ls_res.append(nums[i])\n",
    "                is_insert = True\n",
    "            else:\n",
    "                is_insert = False\n",
    "            ls_appeared.add(nums[i])\n",
    "        for i in range(1, len_num + 1):\n",
    "            if i not in ls_appeared:\n",
    "                ls_res.append(i)\n",
    "\n",
    "        return ls_res"
   ]
  },
  {
   "cell_type": "code",
   "execution_count": 2,
   "metadata": {},
   "outputs": [],
   "source": [
    "sol = Solution()"
   ]
  },
  {
   "cell_type": "code",
   "execution_count": 3,
   "metadata": {},
   "outputs": [
    {
     "name": "stdout",
     "output_type": "stream",
     "text": [
      "[2, 1]\n",
      "[2, 5, 1, 3, 4]\n",
      "[3, 2]\n",
      "[]\n"
     ]
    }
   ],
   "source": [
    "ls_test = [\n",
    "    [2, 2], \n",
    "    [6, 2, 2, 2, 5, 5],\n",
    "    [3, 3, 1],\n",
    "    [4, 3, 2, 1]\n",
    "]\n",
    "\n",
    "for test in ls_test:\n",
    "    print(sol.findErrorNums(test))"
   ]
  },
  {
   "cell_type": "code",
   "execution_count": null,
   "metadata": {},
   "outputs": [],
   "source": []
  }
 ],
 "metadata": {
  "kernelspec": {
   "display_name": "Python 3",
   "language": "python",
   "name": "python3"
  },
  "language_info": {
   "codemirror_mode": {
    "name": "ipython",
    "version": 3
   },
   "file_extension": ".py",
   "mimetype": "text/x-python",
   "name": "python",
   "nbconvert_exporter": "python",
   "pygments_lexer": "ipython3",
   "version": "3.10.13"
  }
 },
 "nbformat": 4,
 "nbformat_minor": 2
}
