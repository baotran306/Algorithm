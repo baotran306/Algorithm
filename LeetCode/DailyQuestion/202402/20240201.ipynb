{
 "cells": [
  {
   "cell_type": "markdown",
   "metadata": {},
   "source": [
    "### [2966. Divide Array Into Arrays With Max Difference](https://leetcode.com/problems/divide-array-into-arrays-with-max-difference)\n",
    "\n",
    "You are given an integer array nums of size n and a positive integer k.\n",
    "\n",
    "Divide the array into one or more arrays of size 3 satisfying the following conditions:\n",
    "\n",
    "Each element of nums should be in exactly one array.\n",
    "The difference between any two elements in one array is less than or equal to k.\n",
    "Return a 2D array containing all the arrays. If it is impossible to satisfy the conditions, return an empty array. And if there are multiple answers, return any of them.\n",
    "\n",
    " \n",
    "\n",
    "Example 1:\n",
    "\n",
    "Input: nums = [1,3,4,8,7,9,3,5,1], k = 2\\\n",
    "Output: [[1,1,3],[3,4,5],[7,8,9]]\\\n",
    "Explanation: We can divide the array into the following arrays: [1,1,3], [3,4,5] and [7,8,9].\\\n",
    "The difference between any two elements in each array is less than or equal to 2.\\\n",
    "Note that the order of elements is not important.\\\n",
    "Example 2:\n",
    "\n",
    "Input: nums = [1,3,3,2,7,3], k = 3\\\n",
    "Output: []\\\n",
    "Explanation: It is not possible to divide the array satisfying all the conditions.\\\n",
    " \n",
    "\n",
    "Constraints:\n",
    "\n",
    "- n == nums.length\n",
    "- 1 <= n <= 105\n",
    "- n is a multiple of 3.\n",
    "- 1 <= nums[i] <= 105\n",
    "- 1 <= k <= 105"
   ]
  },
  {
   "cell_type": "code",
   "execution_count": 2,
   "metadata": {},
   "outputs": [],
   "source": [
    "from typing import List\n",
    "\n",
    "\n",
    "class Solution:\n",
    "    def divideArray(self, nums: List[int], k: int) -> List[List[int]]:\n",
    "        nums = sorted(nums)\n",
    "        len_num = len(nums)\n",
    "        if len_num % 3 != 0:\n",
    "            return []\n",
    "        res = []\n",
    "        i = 0\n",
    "        # print(nums)\n",
    "        while i < len_num:\n",
    "            if nums[i + 2] - nums[i] <= k:\n",
    "                # print(nums[i:i+3])\n",
    "                res.append(nums[i:i+3])\n",
    "                i += 3\n",
    "            else:\n",
    "                return [] \n",
    "        # print(res)\n",
    "        return res\n"
   ]
  },
  {
   "cell_type": "code",
   "execution_count": 3,
   "metadata": {},
   "outputs": [],
   "source": [
    "sol = Solution()"
   ]
  },
  {
   "cell_type": "code",
   "execution_count": 5,
   "metadata": {},
   "outputs": [
    {
     "name": "stdout",
     "output_type": "stream",
     "text": [
      "[[1, 1, 3], [3, 4, 5], [7, 8, 9]]\n",
      "[]\n"
     ]
    }
   ],
   "source": [
    "ls_test = [\n",
    "    dict(nums = [1,3,4,8,7,9,3,5,1], k = 2),\n",
    "    dict(nums = [1,3,3,2,7,3], k = 3)\n",
    "]\n",
    "\n",
    "for test in ls_test:\n",
    "    print(sol.divideArray(test[\"nums\"], test[\"k\"]))"
   ]
  },
  {
   "cell_type": "code",
   "execution_count": null,
   "metadata": {},
   "outputs": [],
   "source": []
  }
 ],
 "metadata": {
  "kernelspec": {
   "display_name": "Python 3",
   "language": "python",
   "name": "python3"
  },
  "language_info": {
   "codemirror_mode": {
    "name": "ipython",
    "version": 3
   },
   "file_extension": ".py",
   "mimetype": "text/x-python",
   "name": "python",
   "nbconvert_exporter": "python",
   "pygments_lexer": "ipython3",
   "version": "3.10.13"
  }
 },
 "nbformat": 4,
 "nbformat_minor": 2
}
