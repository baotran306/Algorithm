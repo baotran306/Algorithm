{
 "cells": [
  {
   "cell_type": "markdown",
   "metadata": {},
   "source": [
    "### [387. First Unique Character in a String](https://leetcode.com/problems/first-unique-character-in-a-string)\n",
    "\n",
    "Given a string s, find the first non-repeating character in it and return its index. If it does not exist, return -1.\n",
    "\n",
    " \n",
    "\n",
    "Example 1:\n",
    "\n",
    "Input: s = \"leetcode\"\\\n",
    "Output: 0\\\n",
    "Example 2:\n",
    "\n",
    "Input: s = \"loveleetcode\"\\\n",
    "Output: 2\\\n",
    "Example 3:\n",
    "\n",
    "Input: s = \"aabb\"\\\n",
    "Output: -1\n",
    " \n",
    "\n",
    "Constraints:\n",
    "\n",
    "- 1 <= s.length <= 105\n",
    "- s consists of only lowercase English letters."
   ]
  },
  {
   "cell_type": "code",
   "execution_count": null,
   "metadata": {},
   "outputs": [],
   "source": [
    "class Solution:\n",
    "    def firstUniqChar(self, s: str) -> int:\n",
    "        dict_s = {}\n",
    "        len_s = len(s)\n",
    "        for i in s:\n",
    "            dict_s[i] = dict_s.get(i, 0) + 1\n",
    "        \n",
    "        # print(dict_s)\n",
    "\n",
    "        for i in range(len_s):\n",
    "            if dict_s[s[i]] == 1:\n",
    "                return i\n",
    "        return -1"
   ]
  },
  {
   "cell_type": "code",
   "execution_count": null,
   "metadata": {},
   "outputs": [],
   "source": []
  }
 ],
 "metadata": {
  "language_info": {
   "name": "python"
  }
 },
 "nbformat": 4,
 "nbformat_minor": 2
}
