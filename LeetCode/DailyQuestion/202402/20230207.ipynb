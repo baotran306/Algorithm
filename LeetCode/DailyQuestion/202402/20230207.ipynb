{
 "cells": [
  {
   "cell_type": "markdown",
   "metadata": {},
   "source": [
    "### [451. Sort Characters By Frequency](https://leetcode.com/problems/sort-characters-by-frequency)\n",
    "\n",
    "Given a string s, sort it in decreasing order based on the frequency of the characters. The frequency of a character is the number of times it appears in the string.\n",
    "\n",
    "Return the sorted string. If there are multiple answers, return any of them.\n",
    "\n",
    " \n",
    "\n",
    "Example 1:\n",
    "\n",
    "Input: s = \"tree\"\\\n",
    "Output: \"eert\"\\\n",
    "Explanation: 'e' appears twice while 'r' and 't' both appear once.\\\n",
    "So 'e' must appear before both 'r' and 't'. Therefore \"eetr\" is also a valid answer.\\\n",
    "Example 2:\n",
    "\n",
    "Input: s = \"cccaaa\"\\\n",
    "Output: \"aaaccc\"\\\n",
    "Explanation: Both 'c' and 'a' appear three times, so both \"cccaaa\" and \"aaaccc\" are valid answers.\\\n",
    "Note that \"cacaca\" is incorrect, as the same characters must be together.\\\n",
    "Example 3:\n",
    "\n",
    "Input: s = \"Aabb\"\\\n",
    "Output: \"bbAa\"\\\n",
    "Explanation: \"bbaA\" is also a valid answer, but \"Aabb\" is incorrect.\\\n",
    "Note that 'A' and 'a' are treated as two different characters.\n",
    " \n",
    "\n",
    "Constraints:\n",
    "\n",
    "- 1 <= s.length <= 5 * 105\n",
    "- s consists of uppercase and lowercase English letters and digits."
   ]
  },
  {
   "cell_type": "code",
   "execution_count": null,
   "metadata": {},
   "outputs": [],
   "source": [
    "print(1)"
   ]
  },
  {
   "cell_type": "code",
   "execution_count": null,
   "metadata": {},
   "outputs": [],
   "source": [
    "class Solution:\n",
    "    def frequencySort(self, s: str) -> str:\n",
    "        freq = {}\n",
    "        for i in s:\n",
    "           freq[i] = freq.get(i, 0) + 1\n",
    "\n",
    "        ls_fee_sort = sorted(freq.items(), key=lambda x: x[1], reverse=True)\n",
    "        res = \"\"\n",
    "        for cur in ls_fee_sort:\n",
    "            res += cur[0] * cur[1]\n",
    "\n",
    "        return res"
   ]
  },
  {
   "cell_type": "code",
   "execution_count": null,
   "metadata": {},
   "outputs": [],
   "source": []
  }
 ],
 "metadata": {
  "language_info": {
   "name": "python"
  }
 },
 "nbformat": 4,
 "nbformat_minor": 2
}
