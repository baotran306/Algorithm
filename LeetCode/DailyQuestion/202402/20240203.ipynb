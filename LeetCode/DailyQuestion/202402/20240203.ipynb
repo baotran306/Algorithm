{
 "cells": [
  {
   "cell_type": "markdown",
   "metadata": {},
   "source": [
    "### [1043. Partition Array for Maximum Sum](https://leetcode.com/problems/partition-array-for-maximum-sum)\n",
    "\n",
    "Given an integer array arr, partition the array into (contiguous) subarrays of length at most k. After partitioning, each subarray has their values changed to become the maximum value of that subarray.\n",
    "\n",
    "Return the largest sum of the given array after partitioning. Test cases are generated so that the answer fits in a 32-bit integer.\n",
    "\n",
    " \n",
    "\n",
    "Example 1:\n",
    "\n",
    "Input: arr = [1,15,7,9,2,5,10], k = 3\\\n",
    "Output: 84\\\n",
    "Explanation: arr becomes [15,15,15,9,10,10,10]\\\n",
    "Example 2:\n",
    "\n",
    "Input: arr = [1,4,1,5,7,3,6,1,9,9,3], k = 4\\\n",
    "Output: 83\\\n",
    "Example 3:\n",
    "\n",
    "Input: arr = [1], k = 1\n",
    "Output: 1\n",
    " \n",
    "\n",
    "Constraints:\n",
    "\n",
    "- 1 <= arr.length <= 500\n",
    "- 0 <= arr[i] <= 109\n",
    "- 1 <= k <= arr.length"
   ]
  },
  {
   "cell_type": "code",
   "execution_count": null,
   "metadata": {},
   "outputs": [],
   "source": [
    "from typing import List\n",
    "class Solution:\n",
    "    def maxSumAfterPartitioning(self, arr: List[int], k: int) -> int:\n",
    "        \n",
    "        cache = {}\n",
    "        len_arr = len(arr)\n",
    "\n",
    "        def dfs(cur_idx):\n",
    "            if cur_idx == len_arr:\n",
    "                return 0\n",
    "            \n",
    "            if cur_idx in cache:\n",
    "                return cache[cur_idx]\n",
    "\n",
    "            res = 0\n",
    "            cur_max = 0\n",
    "            \n",
    "\n",
    "            for i in range(cur_idx, min(cur_idx + k, len_arr)):\n",
    "                \n",
    "                cur_max = max(cur_max, arr[i])\n",
    "                window_size = i - cur_idx + 1 \n",
    "                res = max(res, cur_max * window_size + dfs(i + 1))\n",
    "            cache[cur_idx] = res\n",
    "            return res\n",
    "\n",
    "        return dfs(0) \n",
    "                \n",
    "        "
   ]
  },
  {
   "cell_type": "code",
   "execution_count": null,
   "metadata": {},
   "outputs": [],
   "source": []
  }
 ],
 "metadata": {
  "language_info": {
   "name": "python"
  }
 },
 "nbformat": 4,
 "nbformat_minor": 2
}
