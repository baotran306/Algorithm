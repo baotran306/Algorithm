{
 "cells": [
  {
   "cell_type": "markdown",
   "metadata": {},
   "source": [
    "### [49. Group Anagrams](https://leetcode.com/problems/group-anagrams)\n",
    "\n",
    "Given an array of strings strs, group the anagrams together. You can return the answer in any order.\n",
    "\n",
    "An Anagram is a word or phrase formed by rearranging the letters of a different word or phrase, typically using all the original letters exactly once.\n",
    "\n",
    " \n",
    "\n",
    "Example 1:\n",
    "\n",
    "Input: strs = [\"eat\",\"tea\",\"tan\",\"ate\",\"nat\",\"bat\"]\\\n",
    "Output: [[\"bat\"],[\"nat\",\"tan\"],[\"ate\",\"eat\",\"tea\"]]\\\n",
    "Example 2:\n",
    "\n",
    "Input: strs = [\"\"]\\\n",
    "Output: [[\"\"]]\\\n",
    "Example 3:\n",
    "\n",
    "Input: strs = [\"a\"]\\\n",
    "Output: [[\"a\"]]\n",
    " \n",
    "\n",
    "Constraints:\n",
    "\n",
    "- 1 <= strs.length <= 104\n",
    "- 0 <= strs[i].length <= 100\n",
    "- strs[i] consists of lowercase English letters."
   ]
  },
  {
   "cell_type": "code",
   "execution_count": null,
   "metadata": {},
   "outputs": [],
   "source": [
    "from typing import List\n",
    "class Solution:\n",
    "    def groupAnagrams(self, strs: List[str]) -> List[List[str]]:\n",
    "        anagram_groups = {}\n",
    "\n",
    "        for word in strs:\n",
    "            sorted_word = \"\".join(sorted(word))\n",
    "\n",
    "            if sorted_word not in anagram_groups:\n",
    "                anagram_groups[sorted_word] = [word]\n",
    "            else:\n",
    "                anagram_groups[sorted_word].append(word)\n",
    "\n",
    "        return anagram_groups.values()"
   ]
  },
  {
   "cell_type": "code",
   "execution_count": null,
   "metadata": {},
   "outputs": [],
   "source": []
  }
 ],
 "metadata": {
  "language_info": {
   "name": "python"
  }
 },
 "nbformat": 4,
 "nbformat_minor": 2
}
