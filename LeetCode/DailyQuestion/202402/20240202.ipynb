{
 "cells": [
  {
   "cell_type": "markdown",
   "metadata": {},
   "source": []
  },
  {
   "cell_type": "code",
   "execution_count": 1,
   "metadata": {},
   "outputs": [],
   "source": [
    "from typing import List\n",
    "class Solution:\n",
    "    def sequentialDigits(self, low: int, high: int) -> List[int]:\n",
    "        res = []\n",
    "        for i in range(1, 10):\n",
    "            cur_num = i\n",
    "            next_digit = i + 1\n",
    "            while next_digit <= 9 and cur_num <= high:\n",
    "                cur_num = cur_num * 10 + next_digit\n",
    "                if low <= cur_num <= high:\n",
    "                    res.append(cur_num)\n",
    "                next_digit += 1\n",
    "    \n",
    "        return sorted(res)"
   ]
  },
  {
   "cell_type": "code",
   "execution_count": 2,
   "metadata": {},
   "outputs": [
    {
     "name": "stdout",
     "output_type": "stream",
     "text": [
      "-------\n",
      "Low: 100, High: 300\n",
      "Ans: [123, 234]\n",
      "-------\n",
      "Low: 12345, High: 5000000\n",
      "Ans: [12345, 23456, 34567, 45678, 56789, 123456, 234567, 345678, 456789, 1234567, 2345678, 3456789]\n",
      "-------\n",
      "Low: 34, High: 789\n",
      "Ans: [34, 45, 56, 67, 78, 89, 123, 234, 345, 456, 567, 678, 789]\n"
     ]
    }
   ],
   "source": [
    "sol = Solution()\n",
    "\n",
    "ls_test = [\n",
    "    dict(low = 100, high = 300),\n",
    "    dict(low = 12345, high = 5000000),\n",
    "    dict(low = 34, high = 789)\n",
    "]\n",
    "\n",
    "for test in ls_test:\n",
    "    print(\"-------\")\n",
    "    print(f\"Low: {test['low']}, High: {test['high']}\")\n",
    "    print(f\"Ans: {sol.sequentialDigits(test['low'], test['high'])}\")"
   ]
  },
  {
   "cell_type": "code",
   "execution_count": null,
   "metadata": {},
   "outputs": [],
   "source": []
  }
 ],
 "metadata": {
  "kernelspec": {
   "display_name": "Python 3",
   "language": "python",
   "name": "python3"
  },
  "language_info": {
   "codemirror_mode": {
    "name": "ipython",
    "version": 3
   },
   "file_extension": ".py",
   "mimetype": "text/x-python",
   "name": "python",
   "nbconvert_exporter": "python",
   "pygments_lexer": "ipython3",
   "version": "3.10.13"
  }
 },
 "nbformat": 4,
 "nbformat_minor": 2
}
